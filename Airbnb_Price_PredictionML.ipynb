{
 "cells": [
  {
   "cell_type": "markdown",
   "metadata": {
    "id": "N5AzJshgW9Lq"
   },
   "source": [
    "# Final Project : Airbnb Price Prediction\n",
    "* `Project Name :`  Airbnb Open Data\n",
    "* ` Name :` Mohamed Ashraf Saad\n"
   ]
  },
  {
   "cell_type": "markdown",
   "metadata": {
    "id": "I5LLrIlBXPP-"
   },
   "source": [
    "# Data Description:"
   ]
  },
  {
   "cell_type": "markdown",
   "metadata": {
    "id": "f1f50wgWXTYH"
   },
   "source": [
    "## What is Airbnb?\n",
    "\n",
    "* Airbnb: “Air Bed and Breakfast”\n",
    "* A service that lets property owners rent out their spaces to travelers looking for a place to stay.\n",
    "* Travelers can rent a space for multiple people to share, a shared space with private rooms, or the entire property for themselves."
   ]
  },
  {
   "cell_type": "markdown",
   "metadata": {
    "id": "MG_d9xsKXsen"
   },
   "source": [
    "```'''Since 2008, guests and hosts have used Airbnb to expand on traveling possibilities and present a more unique, personalized way of experiencing the world. Today, Airbnb became one of a kind service that is used and recognized by the whole world. Data analysis on millions of listings provided through Airbnb is a crucial factor for the company. These millions of listings generate a lot of data - data that can be analyzed and used for security, business decisions, understanding of customers' and providers' (hosts) behavior and performance on the platform, guiding marketing initiatives, implementation of innovative additional services and much more.'''```\n",
    "\n",
    "```"
   ]
  },
  {
   "cell_type": "markdown",
   "metadata": {
    "id": "_mPkYMBQTcr4"
   },
   "source": [
    "##id: Customer id\n",
    "## Name: Customer Name\n",
    "##host id: host id\n",
    "##host_identity_verified: Verify the host's ID before entering the Host\n",
    "##host name: Host Name\n",
    "##neighbourhood group: The group of neighborhoods in that city\n",
    "##neighbourhood: The neighborhood within a group of neighborhoods\n",
    "##lat: Latitude lines to this host\n",
    "##long: Longitude to this host\n",
    "##country: Host country\n",
    "##country code: Host country code\n",
    "##instant_bookable: The host accepts immediate booking or not\n",
    "##cancellation_policy:Procedures when canceling a reservation\n",
    "##room type: Host room type\n",
    "##Construction year: The year this host was built\n",
    "##price: Price at this host\n",
    "##service fee: The amount of service is money\n",
    "##minimum nights: Minimum number of nights spent at the host\n",
    "##number of reviews: number of reviews to this host\n",
    "##last review: last review to this host\n",
    "##reviews per month: reviews per month to this host\n",
    "##review rate number: review rate number to this host\n",
    "##alculated host listings count: The number of host listings calculated when\n",
    "## booking at the host\n",
    "##availability 365: The number of days available during the year\n",
    "##house_rules: Rules to this house\n",
    "##license : The license owned by this host"
   ]
  },
  {
   "cell_type": "markdown",
   "metadata": {
    "id": "3AD4TnmSY1Y2"
   },
   "source": [
    "# ⏬ Import Libraries and explore data"
   ]
  },
  {
   "cell_type": "code",
   "execution_count": null,
   "metadata": {},
   "outputs": [],
   "source": [
    "!pip install category_encoders\n",
    "!pip install folium"
   ]
  },
  {
   "cell_type": "code",
   "execution_count": null,
   "metadata": {
    "id": "6E-nqYTUO1gM",
    "tags": []
   },
   "outputs": [],
   "source": [
    "import pandas as pd\n",
    "import numpy as np\n",
    "import plotly.express as px\n",
    "import matplotlib.pyplot as plt\n",
    "import seaborn as sns\n",
    "import folium"
   ]
  },
  {
   "cell_type": "code",
   "execution_count": null,
   "metadata": {
    "colab": {
     "base_uri": "https://localhost:8080/",
     "height": 0
    },
    "id": "JikpTDTsY50N",
    "outputId": "485a479b-3a66-464c-b1c3-835db45d1c21",
    "tags": []
   },
   "outputs": [],
   "source": [
    "df =pd.read_csv(\"Airbnb_Open_Data.csv\" , low_memory=False)\n",
    "df"
   ]
  },
  {
   "cell_type": "code",
   "execution_count": null,
   "metadata": {
    "colab": {
     "base_uri": "https://localhost:8080/"
    },
    "id": "jNkyT00nZEtF",
    "outputId": "9707a98d-6af9-4cf5-8e40-cced7ed7db5d",
    "tags": []
   },
   "outputs": [],
   "source": [
    "# Checking the shape of datset\n",
    "print(f'The shape of Airbnb Dataset is {df.shape}')"
   ]
  },
  {
   "cell_type": "code",
   "execution_count": null,
   "metadata": {
    "colab": {
     "base_uri": "https://localhost:8080/"
    },
    "id": "tvo42u99Z82P",
    "outputId": "c6a6d3e9-28b4-497c-a252-f3b169dd8321",
    "tags": []
   },
   "outputs": [],
   "source": [
    "# Checking the feature names\n",
    "print(f' The names of the features present in the dataset are: ')\n",
    "list(df.columns)"
   ]
  },
  {
   "cell_type": "code",
   "execution_count": null,
   "metadata": {
    "id": "0BrznPuEdgMu",
    "tags": []
   },
   "outputs": [],
   "source": [
    "# Replace 'df' with the actual variable name if it's different\n",
    "\n",
    "# Define the column names\n",
    "columns = ['id', 'NAME', 'host id', 'host_identity_verified', 'host name', 'neighbourhood group', 'neighbourhood', 'lat', 'long', 'country', 'country code', 'instant_bookable', 'cancellation_policy', 'room type', 'Construction year', 'price', 'service fee', 'minimum nights', 'number of reviews', 'last review', 'reviews per month', 'review rate number', 'calculated host listings count', 'availability 365', 'house_rules', 'license']\n",
    "\n",
    "# Replace spaces with underscores in column names\n",
    "new_columns = [col.replace(' ', '_') for col in columns]\n",
    "\n",
    "# Rename the columns in the DataFrame\n",
    "df.columns = new_columns\n",
    "\n",
    "# Now df contains the DataFrame with column names having spaces replaced with underscores"
   ]
  },
  {
   "cell_type": "code",
   "execution_count": null,
   "metadata": {
    "colab": {
     "base_uri": "https://localhost:8080/"
    },
    "id": "ZXUhE2QqZ_Y4",
    "outputId": "05c5428d-0710-4e7a-fb32-aed589ca5635",
    "tags": []
   },
   "outputs": [],
   "source": [
    "#Checking for categorical columns\n",
    "cat_cols = df.select_dtypes(include = 'object').columns\n",
    "print(' The following are the non categorical features in the dataset:')\n",
    "list(cat_cols)"
   ]
  },
  {
   "cell_type": "code",
   "execution_count": null,
   "metadata": {
    "colab": {
     "base_uri": "https://localhost:8080/"
    },
    "id": "3f9SWYyuaB9K",
    "outputId": "88727cb7-00d7-4a95-95e9-96284e2e2fa8",
    "tags": []
   },
   "outputs": [],
   "source": [
    "# Checking for numeric/ non categorical columns\n",
    "num_cols = df.select_dtypes(exclude = 'object').columns\n",
    "print(' The following are the non numeric features in the dataset:')\n",
    "list(num_cols)"
   ]
  },
  {
   "cell_type": "code",
   "execution_count": null,
   "metadata": {
    "colab": {
     "base_uri": "https://localhost:8080/",
     "height": 0
    },
    "id": "8P6gAh2maaAw",
    "outputId": "852a9b7a-b79d-4752-c43d-7b4c40c04986",
    "tags": []
   },
   "outputs": [],
   "source": [
    "# Checking the last 5 rows of the data\n",
    "df.tail(5)"
   ]
  },
  {
   "cell_type": "code",
   "execution_count": null,
   "metadata": {
    "colab": {
     "base_uri": "https://localhost:8080/"
    },
    "id": "wAPDhgSUacFR",
    "outputId": "116b6107-46b9-456e-ba61-511acde86d14",
    "tags": []
   },
   "outputs": [],
   "source": [
    "# Checking the information of the dataset\n",
    "df.info()"
   ]
  },
  {
   "cell_type": "code",
   "execution_count": null,
   "metadata": {
    "colab": {
     "base_uri": "https://localhost:8080/",
     "height": 0
    },
    "id": "-Noq5FB6aeA5",
    "outputId": "a574c7d8-028d-4d96-814d-2ec40cc0aa4a",
    "tags": []
   },
   "outputs": [],
   "source": [
    "df.describe()"
   ]
  },
  {
   "cell_type": "code",
   "execution_count": null,
   "metadata": {
    "colab": {
     "base_uri": "https://localhost:8080/",
     "height": 0
    },
    "id": "JnXhpV44ahKE",
    "outputId": "1dcb0497-b866-4248-9ed6-5c6bd19bcb3c",
    "tags": []
   },
   "outputs": [],
   "source": [
    "df.describe(include='object')"
   ]
  },
  {
   "cell_type": "code",
   "execution_count": null,
   "metadata": {
    "colab": {
     "base_uri": "https://localhost:8080/"
    },
    "id": "ZEltNzeda1jE",
    "outputId": "e8d24833-a9a5-46ca-e9ad-8572520ee504",
    "tags": []
   },
   "outputs": [],
   "source": [
    "# Checking for the null values\n",
    "print(f'The missing values before cleaning the data are:')\n",
    "df.isnull().sum()"
   ]
  },
  {
   "cell_type": "code",
   "execution_count": null,
   "metadata": {
    "colab": {
     "base_uri": "https://localhost:8080/"
    },
    "id": "PC9WdjK9cbn4",
    "outputId": "3238d95d-43b5-4bfb-9a24-b7abc4b5e62b",
    "tags": []
   },
   "outputs": [],
   "source": [
    "# check for missing values %\n",
    "df.isnull().mean() * 100"
   ]
  },
  {
   "cell_type": "code",
   "execution_count": null,
   "metadata": {
    "colab": {
     "base_uri": "https://localhost:8080/"
    },
    "id": "wcgqDQi6cgnx",
    "outputId": "7709902c-32b6-41b3-9d94-c1c69d81f661",
    "tags": []
   },
   "outputs": [],
   "source": [
    "df.neighbourhood_group.value_counts().nlargest(10)"
   ]
  },
  {
   "cell_type": "code",
   "execution_count": null,
   "metadata": {
    "colab": {
     "base_uri": "https://localhost:8080/"
    },
    "id": "5G3Cw0KAcp75",
    "outputId": "70744545-dede-4098-c178-bc9a2e655719",
    "tags": []
   },
   "outputs": [],
   "source": [
    "df.neighbourhood.value_counts().nlargest(10)"
   ]
  },
  {
   "cell_type": "code",
   "execution_count": null,
   "metadata": {
    "colab": {
     "base_uri": "https://localhost:8080/"
    },
    "id": "KWU9yjw2d8zZ",
    "outputId": "ff95d242-f17a-4396-ef93-1ed765d25563",
    "tags": []
   },
   "outputs": [],
   "source": [
    "df.room_type.value_counts().nlargest(10)"
   ]
  },
  {
   "cell_type": "code",
   "execution_count": null,
   "metadata": {
    "colab": {
     "base_uri": "https://localhost:8080/"
    },
    "id": "PxwzN6xhd_TJ",
    "outputId": "3d673ff8-ddf8-49d9-e39b-7d3d570180b6",
    "tags": []
   },
   "outputs": [],
   "source": [
    "df.calculated_host_listings_count.value_counts().nlargest(10)"
   ]
  },
  {
   "cell_type": "code",
   "execution_count": null,
   "metadata": {
    "colab": {
     "base_uri": "https://localhost:8080/"
    },
    "id": "k0HJGBB0e7tk",
    "outputId": "eaa8c286-a513-4fe8-a72a-23c0d747485a",
    "tags": []
   },
   "outputs": [],
   "source": [
    "df.price.value_counts().nlargest(10)"
   ]
  },
  {
   "cell_type": "code",
   "execution_count": null,
   "metadata": {
    "colab": {
     "base_uri": "https://localhost:8080/"
    },
    "id": "vI8GXk7_e-5O",
    "outputId": "c667a941-e9a9-4021-ee32-bfe226c73b43",
    "tags": []
   },
   "outputs": [],
   "source": [
    "df.host_name.nunique()"
   ]
  },
  {
   "cell_type": "code",
   "execution_count": null,
   "metadata": {
    "colab": {
     "base_uri": "https://localhost:8080/"
    },
    "id": "XraCe24vgVi9",
    "outputId": "b613243a-6a58-4074-8bb3-57125df75e4c",
    "tags": []
   },
   "outputs": [],
   "source": [
    "df.host_id.nunique()"
   ]
  },
  {
   "cell_type": "code",
   "execution_count": null,
   "metadata": {
    "colab": {
     "base_uri": "https://localhost:8080/"
    },
    "id": "Fh-Dx8bmgYKZ",
    "outputId": "cfcd0983-76ce-40a6-c006-2ab8eaaeb580",
    "tags": []
   },
   "outputs": [],
   "source": [
    "df.neighbourhood.nunique()"
   ]
  },
  {
   "cell_type": "code",
   "execution_count": null,
   "metadata": {
    "colab": {
     "base_uri": "https://localhost:8080/"
    },
    "id": "LO6sBAwBgdjC",
    "outputId": "915f141a-6d9b-4d84-9a35-9d88d88da96e",
    "tags": []
   },
   "outputs": [],
   "source": [
    "df.neighbourhood_group.nunique()\n"
   ]
  },
  {
   "cell_type": "code",
   "execution_count": null,
   "metadata": {
    "id": "_9Dgw0SyggiY",
    "tags": []
   },
   "outputs": [],
   "source": [
    "def ShowDetails():\n",
    "    global df\n",
    "    for col in df.columns :\n",
    "        print(f'for feature {col}')\n",
    "        print(f'Number of Nulls is {df[col].isna().sum()}')\n",
    "        print(f'Number of Unique Values is {len(df[col].unique())}')\n",
    "        print(f'Unique Values is {df[col].unique()}')\n",
    "        print(f'Random Value is {df[col][np.random.randint(df.shape[0])]}')\n",
    "        print(f'Random Value is {df[col][np.random.randint(df.shape[0])]}')\n",
    "        print(f'Random Value is {df[col][np.random.randint(df.shape[0])]}')\n",
    "        print('\\n\\n==================================\\n\\n')"
   ]
  },
  {
   "cell_type": "code",
   "execution_count": null,
   "metadata": {
    "colab": {
     "base_uri": "https://localhost:8080/"
    },
    "id": "VXjGsrdlgjjW",
    "outputId": "4abb1a70-b5c8-4d49-e30b-ca77ac6eca17",
    "tags": []
   },
   "outputs": [],
   "source": [
    "ShowDetails()"
   ]
  },
  {
   "cell_type": "markdown",
   "metadata": {
    "id": "ASTuh2Q_gwVm"
   },
   "source": [
    "# ⏬ Data Cleaning"
   ]
  },
  {
   "cell_type": "code",
   "execution_count": null,
   "metadata": {
    "colab": {
     "base_uri": "https://localhost:8080/"
    },
    "id": "qpcmDifHgl4X",
    "outputId": "27858c10-97c3-44b7-ca13-568a1f31e83c",
    "tags": []
   },
   "outputs": [],
   "source": [
    "df.shape"
   ]
  },
  {
   "cell_type": "code",
   "execution_count": null,
   "metadata": {
    "colab": {
     "base_uri": "https://localhost:8080/"
    },
    "id": "qHAVf-RTgu6E",
    "outputId": "4a53f044-1429-43d9-ed14-4b7a777de471",
    "tags": []
   },
   "outputs": [],
   "source": [
    "df.duplicated().sum()"
   ]
  },
  {
   "cell_type": "code",
   "execution_count": null,
   "metadata": {
    "id": "k8KgbOLLg_e0",
    "tags": []
   },
   "outputs": [],
   "source": [
    "#Remove duplicated\n",
    "df.drop_duplicates(inplace=True)\n"
   ]
  },
  {
   "cell_type": "code",
   "execution_count": null,
   "metadata": {
    "colab": {
     "base_uri": "https://localhost:8080/"
    },
    "id": "okcxAX9vhVJN",
    "outputId": "62b3b953-a2a3-432f-d41d-0444ec8a26b9",
    "tags": []
   },
   "outputs": [],
   "source": [
    "df.shape"
   ]
  },
  {
   "cell_type": "code",
   "execution_count": null,
   "metadata": {
    "colab": {
     "base_uri": "https://localhost:8080/"
    },
    "id": "zlrOIkC_hW4L",
    "outputId": "c590bffa-8a1d-47bd-8f97-d86e1209de6e",
    "tags": []
   },
   "outputs": [],
   "source": [
    "print(\"Total columns before dropping : \", len(df.columns), \"\\n\")\n",
    "print(\"Columns with more than 50% missing values: \")\n",
    "print(df.columns[df.isnull().mean() > 0.5], \"\\n\")\n",
    "df = df.drop(df.columns[df.isnull().mean() > 0.5], axis=1)\n",
    "print(\"Total columns after dropping:\", len(df.columns))  # Corrected line"
   ]
  },
  {
   "cell_type": "code",
   "execution_count": null,
   "metadata": {
    "colab": {
     "base_uri": "https://localhost:8080/",
     "height": 0
    },
    "id": "5uEAE2BRhfui",
    "outputId": "894efd8f-29a3-4d0c-d47b-b895dc96a433",
    "tags": []
   },
   "outputs": [],
   "source": [
    "df"
   ]
  },
  {
   "cell_type": "code",
   "execution_count": null,
   "metadata": {
    "id": "TKVjUyxriJOQ",
    "tags": []
   },
   "outputs": [],
   "source": [
    "# Convert 'last review' column to datetime type\n",
    "df['last_review'] = pd.to_datetime(df['last_review'])"
   ]
  },
  {
   "cell_type": "code",
   "execution_count": null,
   "metadata": {
    "colab": {
     "base_uri": "https://localhost:8080/"
    },
    "id": "IqVg8CLNieOf",
    "outputId": "6ee5c943-c230-4954-eca1-65996009a186",
    "tags": []
   },
   "outputs": [],
   "source": [
    "# Convert 'price' column to float type\n",
    "\n",
    "df['price'] = df['price'].str.replace('$', '')\n",
    "df['price'] = df['price'].str.replace(',', '')\n",
    "df['price'] = df['price'].astype(float)"
   ]
  },
  {
   "cell_type": "code",
   "execution_count": null,
   "metadata": {
    "colab": {
     "base_uri": "https://localhost:8080/"
    },
    "id": "KeZXoKP2ikBo",
    "outputId": "71ce0852-1bac-4224-9661-4d6e2b024449",
    "tags": []
   },
   "outputs": [],
   "source": [
    "df['price']\n"
   ]
  },
  {
   "cell_type": "code",
   "execution_count": null,
   "metadata": {
    "colab": {
     "base_uri": "https://localhost:8080/"
    },
    "id": "qz8IzdTYixvx",
    "outputId": "8fd057a0-9209-42e1-a292-5098a2930ae6",
    "tags": []
   },
   "outputs": [],
   "source": [
    "# Convert 'service_fee' column to float type\n",
    "df['service_fee'] = df['service_fee'].str.replace('$', '')\n",
    "df['service_fee'] = df['service_fee'].str.replace(',', '')\n",
    "df['service_fee'] = df['service_fee'].astype(float)"
   ]
  },
  {
   "cell_type": "code",
   "execution_count": null,
   "metadata": {
    "colab": {
     "base_uri": "https://localhost:8080/"
    },
    "id": "ihThmtZ8i-I9",
    "outputId": "e9f73ccb-056c-4b1a-a457-ae8986c99c35",
    "tags": []
   },
   "outputs": [],
   "source": [
    "df['service_fee']"
   ]
  },
  {
   "cell_type": "code",
   "execution_count": null,
   "metadata": {
    "colab": {
     "base_uri": "https://localhost:8080/"
    },
    "id": "zkxqQVLxjALA",
    "outputId": "0e494000-a6f5-4ea5-a5fc-f1a3d9331983",
    "tags": []
   },
   "outputs": [],
   "source": [
    "df.info()"
   ]
  },
  {
   "cell_type": "code",
   "execution_count": null,
   "metadata": {
    "colab": {
     "base_uri": "https://localhost:8080/"
    },
    "id": "NkcNtNK46oQm",
    "outputId": "c4890ca0-d23f-4bc9-a27a-2d06ff9287b5",
    "tags": []
   },
   "outputs": [],
   "source": [
    "df.isna().sum()"
   ]
  },
  {
   "cell_type": "code",
   "execution_count": null,
   "metadata": {
    "id": "zALgTaP96ubk",
    "tags": []
   },
   "outputs": [],
   "source": [
    "# Assuming 'id' is a column in  DataFrame 'df'\n",
    "df = df.drop('id', axis=1)"
   ]
  },
  {
   "cell_type": "code",
   "execution_count": null,
   "metadata": {
    "id": "qI0eEIb7a8y-",
    "tags": []
   },
   "outputs": [],
   "source": [
    "# Assuming 'host_id' is a column in  DataFrame 'df'\n",
    "df = df.drop('host_id', axis=1)"
   ]
  },
  {
   "cell_type": "code",
   "execution_count": null,
   "metadata": {
    "id": "06t6teffcPXM",
    "tags": []
   },
   "outputs": [],
   "source": [
    "#drop null value in this coulmn\n",
    "df = df.dropna(subset=['price','NAME','host_identity_verified'])\n",
    "df = df.dropna(subset=['neighbourhood_group','neighbourhood'])\n",
    "df = df.dropna(subset=['cancellation_policy'])\n",
    "df = df.dropna(subset=['instant_bookable', 'host_name','Construction_year'])\n",
    "df = df.dropna(subset=['lat','long'])"
   ]
  },
  {
   "cell_type": "code",
   "execution_count": null,
   "metadata": {
    "colab": {
     "base_uri": "https://localhost:8080/"
    },
    "id": "RsmOqBW9c807",
    "outputId": "5b1d3ae8-a4e5-4179-9812-7fd503cce867",
    "tags": []
   },
   "outputs": [],
   "source": [
    "df.isna().sum()"
   ]
  },
  {
   "cell_type": "code",
   "execution_count": null,
   "metadata": {
    "colab": {
     "base_uri": "https://localhost:8080/"
    },
    "id": "8oQZ_A_mGCAm",
    "outputId": "56917afa-023c-4b46-ae8d-9e1b95051cbc",
    "tags": []
   },
   "outputs": [],
   "source": [
    "df.duplicated().sum()"
   ]
  },
  {
   "cell_type": "code",
   "execution_count": null,
   "metadata": {
    "id": "kFmmLwVmGCAm",
    "tags": []
   },
   "outputs": [],
   "source": [
    "df.drop_duplicates(inplace=True)"
   ]
  },
  {
   "cell_type": "code",
   "execution_count": null,
   "metadata": {
    "colab": {
     "base_uri": "https://localhost:8080/"
    },
    "id": "DvFI29V3GCAn",
    "outputId": "6a6470b6-b694-43ee-821f-0c2c85db5fb5",
    "tags": []
   },
   "outputs": [],
   "source": [
    "df.duplicated().sum()"
   ]
  },
  {
   "cell_type": "code",
   "execution_count": null,
   "metadata": {
    "id": "o_4i8ux7dFU5",
    "tags": []
   },
   "outputs": [],
   "source": [
    "# Drop columns where value counts is equal to 1\n",
    "for col in df.columns:\n",
    "    if df[col].value_counts().shape[0] == 1:\n",
    "        df = df.drop(col, axis=1)"
   ]
  },
  {
   "cell_type": "code",
   "execution_count": null,
   "metadata": {
    "colab": {
     "base_uri": "https://localhost:8080/"
    },
    "id": "cmzYhIKLdLb5",
    "outputId": "8fae2de9-c967-4242-8c61-85cf259e4550",
    "tags": []
   },
   "outputs": [],
   "source": [
    "df.shape\n"
   ]
  },
  {
   "cell_type": "code",
   "execution_count": null,
   "metadata": {
    "colab": {
     "base_uri": "https://localhost:8080/"
    },
    "id": "l0UWzWstdjo6",
    "outputId": "386336ca-9e68-4b19-d936-02ff46e33c1d",
    "tags": []
   },
   "outputs": [],
   "source": [
    "print(df.columns)\n"
   ]
  },
  {
   "cell_type": "code",
   "execution_count": null,
   "metadata": {
    "colab": {
     "base_uri": "https://localhost:8080/"
    },
    "id": "n_BASstmdnsm",
    "outputId": "10019861-5b78-4ae7-86a4-308c95343fb5",
    "tags": []
   },
   "outputs": [],
   "source": [
    "df.isna().sum()"
   ]
  },
  {
   "cell_type": "code",
   "execution_count": null,
   "metadata": {
    "colab": {
     "base_uri": "https://localhost:8080/",
     "height": 0
    },
    "id": "ToDQ0CN9eDth",
    "outputId": "0d621453-c3cb-4ddc-c16e-af96ab4e0336",
    "tags": []
   },
   "outputs": [],
   "source": [
    "df[df['service_fee']==0]"
   ]
  },
  {
   "cell_type": "code",
   "execution_count": null,
   "metadata": {
    "id": "jVZw0ZX_eb7U",
    "tags": []
   },
   "outputs": [],
   "source": [
    "# Fill null values in service fee by zeros\n",
    "df['service_fee'] = df['service_fee'].fillna(0)"
   ]
  },
  {
   "cell_type": "code",
   "execution_count": null,
   "metadata": {
    "colab": {
     "base_uri": "https://localhost:8080/"
    },
    "id": "pPG0DceVeiEg",
    "outputId": "d57bc5f2-d7cf-4a41-c5f1-756e08815458",
    "tags": []
   },
   "outputs": [],
   "source": [
    "df['service_fee'].value_counts()"
   ]
  },
  {
   "cell_type": "code",
   "execution_count": null,
   "metadata": {
    "colab": {
     "base_uri": "https://localhost:8080/"
    },
    "id": "J6A7-zk5erh0",
    "outputId": "bbe594d2-c2b7-438c-e4f4-a2dfee3d27b4",
    "tags": []
   },
   "outputs": [],
   "source": [
    "df['availability_365'].describe()\n"
   ]
  },
  {
   "cell_type": "code",
   "execution_count": null,
   "metadata": {
    "id": "l6Ih2-w0e1Kc",
    "tags": []
   },
   "outputs": [],
   "source": [
    "# Assuming 'availability 365' is the name of the column in your DataFrame 'df'\n",
    "df = df.drop(df[df['availability_365'] < 0].index)"
   ]
  },
  {
   "cell_type": "code",
   "execution_count": null,
   "metadata": {
    "id": "sRunqBOEe7jA",
    "tags": []
   },
   "outputs": [],
   "source": [
    "# remove availability 365 that more than 365\n",
    "df = df.drop(df[df['availability_365'] >365 ].index)"
   ]
  },
  {
   "cell_type": "code",
   "execution_count": null,
   "metadata": {
    "colab": {
     "base_uri": "https://localhost:8080/"
    },
    "id": "h08AmWdqfYbh",
    "outputId": "c286e5b3-5e47-4606-f6a9-f16c48aa3b1a",
    "tags": []
   },
   "outputs": [],
   "source": [
    "df['availability_365'].describe()\n"
   ]
  },
  {
   "cell_type": "code",
   "execution_count": null,
   "metadata": {
    "colab": {
     "base_uri": "https://localhost:8080/"
    },
    "id": "YFtzFG56feCw",
    "outputId": "6ef1d890-0349-45d9-a276-55f4019c5ccc",
    "tags": []
   },
   "outputs": [],
   "source": [
    "df['minimum_nights'].describe()\n"
   ]
  },
  {
   "cell_type": "code",
   "execution_count": null,
   "metadata": {
    "id": "eLtfsnRjfnf6",
    "tags": []
   },
   "outputs": [],
   "source": [
    "# remove minimum nights that less than 0\n",
    "df = df.drop(df[df['minimum_nights'] < 0].index)"
   ]
  },
  {
   "cell_type": "code",
   "execution_count": null,
   "metadata": {
    "colab": {
     "base_uri": "https://localhost:8080/"
    },
    "id": "1w-_6Yxxf2yr",
    "outputId": "dad6e186-adff-4948-ef63-53eb5632e72a",
    "tags": []
   },
   "outputs": [],
   "source": [
    "df['minimum_nights'].describe()\n"
   ]
  },
  {
   "cell_type": "code",
   "execution_count": null,
   "metadata": {
    "colab": {
     "base_uri": "https://localhost:8080/"
    },
    "id": "mmX2-04Af4TV",
    "outputId": "84aec008-6409-4981-aad2-cba19ee5db74",
    "tags": []
   },
   "outputs": [],
   "source": [
    "df[\"neighbourhood_group\"].value_counts()"
   ]
  },
  {
   "cell_type": "code",
   "execution_count": null,
   "metadata": {
    "id": "gHm9AK6igPE7",
    "tags": []
   },
   "outputs": [],
   "source": [
    "# remove the row that neighbourhood group is brookln (out lier)\n",
    "df = df[df['neighbourhood_group'] != 'brookln']\n"
   ]
  },
  {
   "cell_type": "code",
   "execution_count": null,
   "metadata": {
    "colab": {
     "base_uri": "https://localhost:8080/"
    },
    "id": "b_Dck5yXhbHt",
    "outputId": "0b214565-005b-4150-df60-b0423d7c0727",
    "tags": []
   },
   "outputs": [],
   "source": [
    "df[\"neighbourhood_group\"].value_counts()"
   ]
  },
  {
   "cell_type": "code",
   "execution_count": null,
   "metadata": {
    "colab": {
     "base_uri": "https://localhost:8080/"
    },
    "id": "xlQI9zFLhitB",
    "outputId": "e2bd56d0-879e-4d57-a2e5-04254933376f",
    "tags": []
   },
   "outputs": [],
   "source": [
    "df.isnull().sum().sort_values()\n"
   ]
  },
  {
   "cell_type": "code",
   "execution_count": null,
   "metadata": {
    "colab": {
     "base_uri": "https://localhost:8080/"
    },
    "id": "R-o3tv54hqfi",
    "outputId": "622098a9-9e62-42d8-aed2-2e22e4e18534",
    "tags": []
   },
   "outputs": [],
   "source": [
    "df.info()"
   ]
  },
  {
   "cell_type": "code",
   "execution_count": null,
   "metadata": {
    "colab": {
     "base_uri": "https://localhost:8080/"
    },
    "id": "zyOGH5A9huUS",
    "outputId": "ae288ad5-137f-4fc2-8eab-17da117c5cbc",
    "tags": []
   },
   "outputs": [],
   "source": [
    "# check for missing values %\n",
    "df.isnull().mean() * 100"
   ]
  },
  {
   "cell_type": "code",
   "execution_count": null,
   "metadata": {
    "colab": {
     "base_uri": "https://localhost:8080/"
    },
    "id": "nmJbqg7niKk4",
    "outputId": "a3207212-4dd5-4b8b-b8ef-5f0ea7f708dd",
    "tags": []
   },
   "outputs": [],
   "source": [
    "df['last_review'].min(), df['last_review'].max()\n"
   ]
  },
  {
   "cell_type": "code",
   "execution_count": null,
   "metadata": {
    "colab": {
     "base_uri": "https://localhost:8080/"
    },
    "id": "73IUPgLGnLJY",
    "outputId": "5d4d55e3-7d5a-40c2-d75b-834273bf14cf",
    "tags": []
   },
   "outputs": [],
   "source": [
    "df['number_of_reviews'].median()"
   ]
  },
  {
   "cell_type": "code",
   "execution_count": null,
   "metadata": {
    "id": "LQr2zX2VmVdk",
    "tags": []
   },
   "outputs": [],
   "source": [
    "# Assuming 'number_of_reviews' is the name of the column in  DataFrame 'df'\n",
    "df['number_of_reviews'].fillna(df['number_of_reviews'].median(), inplace=True)"
   ]
  },
  {
   "cell_type": "code",
   "execution_count": null,
   "metadata": {
    "colab": {
     "base_uri": "https://localhost:8080/"
    },
    "id": "VE9u40VanOGg",
    "outputId": "58dd6906-3fa8-49ca-b9a4-8003b9e71ee6",
    "tags": []
   },
   "outputs": [],
   "source": [
    "# check for missing values %\n",
    "df.isnull().mean() * 100\n"
   ]
  },
  {
   "cell_type": "code",
   "execution_count": null,
   "metadata": {
    "colab": {
     "base_uri": "https://localhost:8080/"
    },
    "id": "uV-zLRYFnTkv",
    "outputId": "a9cf756a-2da9-4f0a-bedc-d7b10be79e68",
    "tags": []
   },
   "outputs": [],
   "source": [
    "df['minimum_nights'].median()"
   ]
  },
  {
   "cell_type": "code",
   "execution_count": null,
   "metadata": {
    "id": "ZyGZcNV_n7Cp",
    "tags": []
   },
   "outputs": [],
   "source": [
    "# Assuming 'minimum_nights' is  fill Null value column in  DataFrame 'df'\n",
    "df['minimum_nights'].fillna(df['minimum_nights'].median(), inplace=True)"
   ]
  },
  {
   "cell_type": "code",
   "execution_count": null,
   "metadata": {
    "colab": {
     "base_uri": "https://localhost:8080/"
    },
    "id": "P4ed_TdqoAaz",
    "outputId": "058cf44a-74e0-4c9d-a419-51ebea0a81c8",
    "tags": []
   },
   "outputs": [],
   "source": [
    "# check for missing values %\n",
    "df.isnull().mean() * 100\n"
   ]
  },
  {
   "cell_type": "code",
   "execution_count": null,
   "metadata": {
    "colab": {
     "base_uri": "https://localhost:8080/"
    },
    "id": "HJjQEVn6oCtm",
    "outputId": "9adfa88d-8798-47f5-96d2-b60afbb8da80",
    "tags": []
   },
   "outputs": [],
   "source": [
    "df['availability_365'].median()"
   ]
  },
  {
   "cell_type": "code",
   "execution_count": null,
   "metadata": {
    "id": "8UsnHhrho6aQ",
    "tags": []
   },
   "outputs": [],
   "source": [
    "# Assuming 'availability_365' is  fill Null value column in  DataFrame 'df'\n",
    "df['availability_365'].fillna(df['availability_365'].median(), inplace=True)"
   ]
  },
  {
   "cell_type": "code",
   "execution_count": null,
   "metadata": {
    "colab": {
     "base_uri": "https://localhost:8080/"
    },
    "id": "_15ujzhWpPSr",
    "outputId": "f4193e33-89f8-45cb-cc6f-23e812871e6d",
    "tags": []
   },
   "outputs": [],
   "source": [
    "df['review_rate_number'].median()"
   ]
  },
  {
   "cell_type": "code",
   "execution_count": null,
   "metadata": {
    "id": "Q8Tgj2gsqCm1",
    "tags": []
   },
   "outputs": [],
   "source": [
    "# Assuming 'calculated_host_listings_count' is  fill Null value column in DataFrame 'df'\n",
    "df['calculated_host_listings_count'].fillna(df['calculated_host_listings_count'].median(), inplace=True)"
   ]
  },
  {
   "cell_type": "code",
   "execution_count": null,
   "metadata": {
    "colab": {
     "base_uri": "https://localhost:8080/"
    },
    "id": "CnnbuET1qEPI",
    "outputId": "f8250a03-5e16-4173-c219-c806bf612ad2",
    "tags": []
   },
   "outputs": [],
   "source": [
    "df['calculated_host_listings_count'].value_counts()"
   ]
  },
  {
   "cell_type": "code",
   "execution_count": null,
   "metadata": {
    "colab": {
     "base_uri": "https://localhost:8080/"
    },
    "id": "0iH5FgA4qSWJ",
    "outputId": "b6a24b01-c564-4998-95e3-ecbe1e0adaa3",
    "tags": []
   },
   "outputs": [],
   "source": [
    "df['review_rate_number'].median()"
   ]
  },
  {
   "cell_type": "code",
   "execution_count": null,
   "metadata": {
    "id": "jXHpysiDqfwx",
    "tags": []
   },
   "outputs": [],
   "source": [
    "# Assuming 'review_rate_number' is fill Null value column in  DataFrame 'df'\n",
    "df['review_rate_number'].fillna(df['review_rate_number'].median(), inplace=True)"
   ]
  },
  {
   "cell_type": "code",
   "execution_count": null,
   "metadata": {
    "colab": {
     "base_uri": "https://localhost:8080/"
    },
    "id": "bFfLppyIqlTt",
    "outputId": "eac2413f-e44f-47e5-d54a-d504b9f9e7c9",
    "tags": []
   },
   "outputs": [],
   "source": [
    "df['review_rate_number'].value_counts()"
   ]
  },
  {
   "cell_type": "code",
   "execution_count": null,
   "metadata": {
    "colab": {
     "base_uri": "https://localhost:8080/"
    },
    "id": "k6uL29zuqqJZ",
    "outputId": "82d6b953-9cd5-4bce-bd9c-55bfd36a5d32",
    "tags": []
   },
   "outputs": [],
   "source": [
    "df.isnull().sum()"
   ]
  },
  {
   "cell_type": "code",
   "execution_count": null,
   "metadata": {
    "colab": {
     "base_uri": "https://localhost:8080/",
     "height": 0
    },
    "id": "9m5n90xdr0ak",
    "outputId": "3d2e0da9-a796-45b3-9ffb-c4290859758c",
    "tags": []
   },
   "outputs": [],
   "source": [
    "df[df['last_review'].isna()]\n"
   ]
  },
  {
   "cell_type": "code",
   "execution_count": null,
   "metadata": {
    "id": "TZ4YBJgqsEF3",
    "tags": []
   },
   "outputs": [],
   "source": [
    "# Assuming 'last_review' and 'reviews_per_month' drop are the names of the columns in  DataFrame 'df'\n",
    "df.drop(['last_review', 'reviews_per_month'], axis=1, inplace=True)"
   ]
  },
  {
   "cell_type": "code",
   "execution_count": null,
   "metadata": {
    "colab": {
     "base_uri": "https://localhost:8080/"
    },
    "id": "zckEJ-l9sZPn",
    "outputId": "b5d84604-c158-4678-f9bc-3c4ad3767eb9",
    "tags": []
   },
   "outputs": [],
   "source": [
    "df.isnull().sum()"
   ]
  },
  {
   "cell_type": "code",
   "execution_count": null,
   "metadata": {
    "colab": {
     "base_uri": "https://localhost:8080/"
    },
    "id": "c5n-swmAJtej",
    "outputId": "0da764a7-c3f1-40b7-c161-373f98bc4e82",
    "tags": []
   },
   "outputs": [],
   "source": [
    "df['minimum_nights'].value_counts().sum()"
   ]
  },
  {
   "cell_type": "code",
   "execution_count": null,
   "metadata": {
    "colab": {
     "base_uri": "https://localhost:8080/"
    },
    "id": "BGlDrRG5J2Wk",
    "outputId": "499ead59-5b6a-4e16-e7dd-ad83b6944e63",
    "tags": []
   },
   "outputs": [],
   "source": [
    "df['minimum_nights'].gt(30).sum()"
   ]
  },
  {
   "cell_type": "code",
   "execution_count": null,
   "metadata": {
    "id": "nerNiDI9LJaq",
    "tags": []
   },
   "outputs": [],
   "source": [
    "# Drop rows where the 'minimum_nights' column is greater than 30 inplace\n",
    "\n",
    "df.drop(df[df['minimum_nights'] > 30].index, inplace=True)\n"
   ]
  },
  {
   "cell_type": "code",
   "execution_count": null,
   "metadata": {
    "colab": {
     "base_uri": "https://localhost:8080/"
    },
    "id": "0gu4TcBas5_R",
    "outputId": "dcb61842-57eb-4857-b375-27275da64aec",
    "tags": []
   },
   "outputs": [],
   "source": [
    "df.info()"
   ]
  },
  {
   "cell_type": "code",
   "execution_count": null,
   "metadata": {
    "colab": {
     "base_uri": "https://localhost:8080/"
    },
    "id": "2U_Iscpls_rB",
    "outputId": "cacd05c3-6bfe-493c-f72d-209380a8c5ee",
    "tags": []
   },
   "outputs": [],
   "source": [
    "df.shape"
   ]
  },
  {
   "cell_type": "code",
   "execution_count": null,
   "metadata": {
    "colab": {
     "base_uri": "https://localhost:8080/"
    },
    "id": "1d1lFgxkFvgn",
    "outputId": "c30cbb4b-98cb-402c-d37f-1d532d4e47e3",
    "tags": []
   },
   "outputs": [],
   "source": [
    "numeric_columns = df.select_dtypes(include='number').columns.tolist()\n",
    "print(\"Numeric Columns:\")\n",
    "for col in numeric_columns:\n",
    "    print(col)"
   ]
  },
  {
   "cell_type": "code",
   "execution_count": null,
   "metadata": {
    "colab": {
     "base_uri": "https://localhost:8080/",
     "height": 0
    },
    "id": "jiJExR8jFY01",
    "outputId": "2eb94f2a-c348-4d57-fb8b-ab3c05626662",
    "tags": []
   },
   "outputs": [],
   "source": [
    "df"
   ]
  },
  {
   "cell_type": "markdown",
   "metadata": {
    "id": "A0E7Loa5JBxM"
   },
   "source": [
    "# ⏬ EDA"
   ]
  },
  {
   "cell_type": "code",
   "execution_count": null,
   "metadata": {
    "colab": {
     "base_uri": "https://localhost:8080/"
    },
    "id": "R7h8m3FBGoBv",
    "outputId": "f848311e-b043-4a59-ba83-218ca8ad400f",
    "tags": []
   },
   "outputs": [],
   "source": [
    "#What are the unique values in the 'neighbourhood_group' column?\n",
    "unique_neighbourhood_groups = df['neighbourhood_group'].unique()\n",
    "print(\"Unique neighbourhood groups:\", unique_neighbourhood_groups)"
   ]
  },
  {
   "cell_type": "code",
   "execution_count": null,
   "metadata": {
    "colab": {
     "base_uri": "https://localhost:8080/"
    },
    "id": "eC5NJLWRGr0X",
    "outputId": "34673ee7-d7db-4bf4-b870-3d8c861e3a4a",
    "tags": []
   },
   "outputs": [],
   "source": [
    "#What is the distribution of 'room_type' in the dataset?\n",
    "room_type_distribution = df['room_type'].value_counts()\n",
    "print(\"Room type distribution:\\n\", room_type_distribution)"
   ]
  },
  {
   "cell_type": "code",
   "execution_count": null,
   "metadata": {
    "colab": {
     "base_uri": "https://localhost:8080/"
    },
    "id": "JRHc3AsQGxP7",
    "outputId": "eb919eb4-5c6e-4579-a363-bb8af9dab742",
    "tags": []
   },
   "outputs": [],
   "source": [
    "#How many listings are available per neighbourhood?\n",
    "listings_per_neighbourhood = df['neighbourhood'].value_counts().head(10)\n",
    "print(\"Listings per neighbourhood:\\n\", listings_per_neighbourhood)"
   ]
  },
  {
   "cell_type": "code",
   "execution_count": null,
   "metadata": {
    "colab": {
     "base_uri": "https://localhost:8080/"
    },
    "id": "ptedQ3vyJMR_",
    "outputId": "f949239f-5f8f-47f1-95e9-37100bb6d094",
    "tags": []
   },
   "outputs": [],
   "source": [
    "#What is the distribution of 'minimum_nights' for listings?\n",
    "minimum_nights_distribution = df['minimum_nights'].value_counts()\n",
    "print(\"Minimum nights distribution:\\n\", minimum_nights_distribution)\n"
   ]
  },
  {
   "cell_type": "code",
   "execution_count": null,
   "metadata": {
    "colab": {
     "base_uri": "https://localhost:8080/"
    },
    "id": "oKCUqJAhJPb1",
    "outputId": "f3c28a33-762e-41e6-ff4b-618a2801c3ae",
    "tags": []
   },
   "outputs": [],
   "source": [
    "#What are the top 10 hosts with the most listings?\n",
    "top_hosts = df['host_name'].value_counts().head(10)\n",
    "print(\"Top 10 hosts with most listings:\\n\", top_hosts)\n"
   ]
  },
  {
   "cell_type": "code",
   "execution_count": null,
   "metadata": {
    "colab": {
     "base_uri": "https://localhost:8080/"
    },
    "id": "lZTkoiXXLq14",
    "outputId": "c3115e4e-2489-4738-f077-5ffb7c0ced83",
    "tags": []
   },
   "outputs": [],
   "source": [
    "#How many unique hosts are there in the dataset?\n",
    "unique_hosts = df['host_name'].nunique()\n",
    "print(\"Number of unique hosts:\", unique_hosts)\n"
   ]
  },
  {
   "cell_type": "code",
   "execution_count": null,
   "metadata": {
    "colab": {
     "base_uri": "https://localhost:8080/"
    },
    "id": "p36EQyJQLuz1",
    "outputId": "3c7a5c85-d0fd-402a-8302-a45f472782fa",
    "tags": []
   },
   "outputs": [],
   "source": [
    "#What is the average number of reviews per listing?\n",
    "average_reviews_per_listing = df['number_of_reviews'].mean()\n",
    "print(\"Average number of reviews per listing:\", average_reviews_per_listing)"
   ]
  },
  {
   "cell_type": "code",
   "execution_count": null,
   "metadata": {
    "colab": {
     "base_uri": "https://localhost:8080/"
    },
    "id": "qosfFT-sLxp7",
    "outputId": "210c05d2-7cf2-468f-a778-4df3835e864a",
    "tags": []
   },
   "outputs": [],
   "source": [
    "#What is the availability distribution throughout the year ('availability_365')?\n",
    "availability_distribution = df['availability_365'].value_counts()\n",
    "print(\"Availability distribution throughout the year:\\n\", availability_distribution)\n"
   ]
  },
  {
   "cell_type": "code",
   "execution_count": null,
   "metadata": {
    "colab": {
     "base_uri": "https://localhost:8080/"
    },
    "id": "C9d8HGp_L2te",
    "outputId": "2f4e8e8a-950c-42c7-944a-7d9c907dbd66",
    "tags": []
   },
   "outputs": [],
   "source": [
    "# Select the columns you want to calculate the correlation with 'price'\n",
    "columns_to_correlate = ['NAME', 'host_identity_verified', 'host_name', 'neighbourhood_group',\n",
    "                        'neighbourhood', 'lat', 'long', 'instant_bookable', 'cancellation_policy',\n",
    "                        'room_type', 'Construction_year', 'service_fee', 'minimum_nights',\n",
    "                        'number_of_reviews', 'review_rate_number', 'calculated_host_listings_count',\n",
    "                        'availability_365']\n",
    "\n",
    "# Calculate the correlation between 'price' and the selected columns\n",
    "price_correlation = df[columns_to_correlate].corrwith(df['price'])\n",
    "\n",
    "# Print the correlation values\n",
    "print(\"Correlation between 'price' and other columns:\")\n",
    "print(price_correlation)"
   ]
  },
  {
   "cell_type": "code",
   "execution_count": null,
   "metadata": {
    "colab": {
     "base_uri": "https://localhost:8080/"
    },
    "id": "GzyuobjEMC1r",
    "outputId": "323bb967-1665-4463-8e16-0b66f619cec6",
    "tags": []
   },
   "outputs": [],
   "source": [
    "#What is the correlation between 'number_of_reviews' and 'availability_365'?\n",
    "correlation_reviews_availability = df['number_of_reviews'].corr(df['availability_365'])\n",
    "print(\"Correlation between 'number_of_reviews' and 'availability_365':\", correlation_reviews_availability)\n"
   ]
  },
  {
   "cell_type": "code",
   "execution_count": null,
   "metadata": {
    "colab": {
     "base_uri": "https://localhost:8080/"
    },
    "id": "ESIdwlXjNA9J",
    "outputId": "c54fe5ec-fda8-40de-c84e-fa128c9682f4",
    "tags": []
   },
   "outputs": [],
   "source": [
    "#What is the correlation between 'calculated_host_listings_count' and 'price'?\n",
    "correlation_host_listings_price = df['calculated_host_listings_count'].corr(df['price'])\n",
    "print(\"Correlation between 'calculated_host_listings_count' and 'price':\", correlation_host_listings_price)"
   ]
  },
  {
   "cell_type": "code",
   "execution_count": null,
   "metadata": {
    "colab": {
     "base_uri": "https://localhost:8080/"
    },
    "id": "LM0Z-e_zNKN_",
    "outputId": "5445c6a2-432c-4c97-82e3-154bb3129322",
    "tags": []
   },
   "outputs": [],
   "source": [
    "#What is the correlation between 'price' and 'number_of_reviews'?\n",
    "correlation_price_reviews = df['price'].corr(df['number_of_reviews'])\n",
    "print(\"Correlation between 'price' and 'number_of_reviews':\", correlation_price_reviews)"
   ]
  },
  {
   "cell_type": "code",
   "execution_count": null,
   "metadata": {
    "colab": {
     "base_uri": "https://localhost:8080/"
    },
    "id": "MV9NjyYINNkc",
    "outputId": "b3b880ea-513a-45ff-a711-733f4e019aad",
    "tags": []
   },
   "outputs": [],
   "source": [
    "#What is the correlation between 'room_type' and 'price'? (if 'room_type' is a categorical variable, you may need to encode it first)\n",
    "# Assuming 'room_type' is categorical and needs encoding\n",
    "encoded_room_type = pd.get_dummies(df['room_type'], drop_first=True)\n",
    "correlation_room_type_price = encoded_room_type.join(df['price']).corr()['price'].drop('price')\n",
    "print(\"Correlation between 'room_type' and 'price':\\n\", correlation_room_type_price)\n"
   ]
  },
  {
   "cell_type": "code",
   "execution_count": null,
   "metadata": {
    "colab": {
     "base_uri": "https://localhost:8080/"
    },
    "id": "ILu0zsWqNTXm",
    "outputId": "073aa9fe-7ed4-4a7d-b280-369a409689b8",
    "tags": []
   },
   "outputs": [],
   "source": [
    "#What is the correlation between 'service_fee' and 'availability_365'?\n",
    "correlation_reviews_service_fee = df['service_fee'].corr(df['service_fee'])\n",
    "print(\"Correlation between 'number_of_reviews' and 'service_fee':\", correlation_reviews_availability)"
   ]
  },
  {
   "cell_type": "code",
   "execution_count": null,
   "metadata": {
    "colab": {
     "base_uri": "https://localhost:8080/"
    },
    "id": "CXJlRtbENgNx",
    "outputId": "1fb8d4db-1153-4f4d-cdf2-43270fe6d979",
    "tags": []
   },
   "outputs": [],
   "source": [
    "#What is the average price of listings in each neighbourhood group?\n",
    "average_price_neighbourhood_group = df.groupby('neighbourhood_group')['price'].mean()\n",
    "print(\"Average price by neighbourhood group:\\n\", average_price_neighbourhood_group)\n"
   ]
  },
  {
   "cell_type": "code",
   "execution_count": null,
   "metadata": {
    "colab": {
     "base_uri": "https://localhost:8080/"
    },
    "id": "S2Qx_Ed8NoID",
    "outputId": "5a43df2d-2e3b-431c-e0d1-471e679b991a",
    "tags": []
   },
   "outputs": [],
   "source": [
    "#What is the average price for Max 10 neighbourhood?\n",
    "\n",
    "average_price_neighbourhood = df.groupby('neighbourhood')['price'].mean().sort_values(ascending=False).head(10)\n",
    "print(\"Average price for each neighbourhood:\\n\", average_price_neighbourhood)"
   ]
  },
  {
   "cell_type": "code",
   "execution_count": null,
   "metadata": {
    "colab": {
     "base_uri": "https://localhost:8080/"
    },
    "id": "eytdFWUANsSq",
    "outputId": "28da7c16-0148-4bb3-ef3a-98eaa3099ecf",
    "tags": []
   },
   "outputs": [],
   "source": [
    "#What is the average price for Min 10 neighbourhood?\n",
    "average_price_neighbourhood = df.groupby('neighbourhood')['price'].mean().sort_values(ascending=True).head(10)\n",
    "print(\"Average price for each neighbourhood:\\n\", average_price_neighbourhood)"
   ]
  },
  {
   "cell_type": "code",
   "execution_count": null,
   "metadata": {
    "colab": {
     "base_uri": "https://localhost:8080/"
    },
    "id": "8a8hdMXtNvna",
    "outputId": "a3836979-1f25-4116-9ab5-1f46af53a2b4",
    "tags": []
   },
   "outputs": [],
   "source": [
    "#What is the distribution of room types within each neighbourhood group?\n",
    "room_type_distribution = df.groupby(['neighbourhood_group', 'room_type']).size().unstack(fill_value=0)\n",
    "print(\"Room type distribution within each neighbourhood group:\\n\", room_type_distribution)"
   ]
  },
  {
   "cell_type": "code",
   "execution_count": null,
   "metadata": {
    "colab": {
     "base_uri": "https://localhost:8080/"
    },
    "id": "b0ZWzmsENzh6",
    "outputId": "31e9f7b6-ca76-4c02-e1d0-bf00a531f0d7",
    "tags": []
   },
   "outputs": [],
   "source": [
    "#What is the average price for each room type?\n",
    "average_price_room_type = df.groupby('room_type')['price'].mean()\n",
    "print(\"Average price for each room type:\\n\", average_price_room_type)"
   ]
  },
  {
   "cell_type": "code",
   "execution_count": null,
   "metadata": {
    "colab": {
     "base_uri": "https://localhost:8080/"
    },
    "id": "c4nOFQ3VN3cd",
    "outputId": "07a80e06-772e-49fe-d406-adc470839b23",
    "tags": []
   },
   "outputs": [],
   "source": [
    "#What is the average number of listings per host?\n",
    "average_listings_per_host = df.groupby('host_name').size().mean()\n",
    "print(\"Average number of listings per host:\", average_listings_per_host)"
   ]
  },
  {
   "cell_type": "code",
   "execution_count": null,
   "metadata": {
    "colab": {
     "base_uri": "https://localhost:8080/"
    },
    "id": "H7DR1hzoN6_a",
    "outputId": "14afaa38-4a76-497c-bbfc-3b13478eb12c",
    "tags": []
   },
   "outputs": [],
   "source": [
    "#What is the average 'price' for listings with 'minimum_nights' less than or equal to 2?\n",
    "average_price_less_than_2_nights = df[df['minimum_nights'] <= 2]['price'].mean()\n",
    "print(\"Average price for listings with minimum nights <= 2:\", average_price_less_than_2_nights)"
   ]
  },
  {
   "cell_type": "code",
   "execution_count": null,
   "metadata": {
    "colab": {
     "base_uri": "https://localhost:8080/"
    },
    "id": "zPSblsg1N9GZ",
    "outputId": "545a6023-6155-43ca-9898-f02c70b6d5cd",
    "tags": []
   },
   "outputs": [],
   "source": [
    "#What is the average 'availability_365' for each 'neighbourhood_group'?\n",
    "average_availability_neighbourhood_group = df.groupby('neighbourhood_group')['availability_365'].mean()\n",
    "print(\"Average availability for each neighbourhood group:\\n\", average_availability_neighbourhood_group)"
   ]
  },
  {
   "cell_type": "code",
   "execution_count": null,
   "metadata": {
    "colab": {
     "base_uri": "https://localhost:8080/"
    },
    "id": "VdvCwf3lN_uo",
    "outputId": "1874e779-a796-48ea-c99d-3759c07d6259",
    "tags": []
   },
   "outputs": [],
   "source": [
    "#How many listings are there with 'price' greater than $100 and 'minimum_nights' less than 3?\n",
    "listings_price_above_100_minimum_nights_below_3 = df[(df['price'] > 100) & (df['minimum_nights'] < 3)]\n",
    "num_listings_price_above_100_minimum_nights_below_3 = len(listings_price_above_100_minimum_nights_below_3)\n",
    "print(\"Number of listings with price > $100 and minimum nights < 3:\", num_listings_price_above_100_minimum_nights_below_3)"
   ]
  },
  {
   "cell_type": "code",
   "execution_count": null,
   "metadata": {
    "colab": {
     "base_uri": "https://localhost:8080/"
    },
    "id": "RT-m3pvUOB96",
    "outputId": "db9aa5a0-7f47-47ad-fedf-99f88d910ae5",
    "tags": []
   },
   "outputs": [],
   "source": [
    "#What is the average 'price' for each 'neighbourhood' within each 'neighbourhood_group'\n",
    "average_price_neighbourhood_within_group = df.groupby(['neighbourhood_group', 'neighbourhood'])['price'].mean().sort_values(ascending=False).head(10)\n",
    "print(\"Average price for each neighbourhood within each neighbourhood group:\\n\", average_price_neighbourhood_within_group)"
   ]
  },
  {
   "cell_type": "code",
   "execution_count": null,
   "metadata": {
    "colab": {
     "base_uri": "https://localhost:8080/"
    },
    "id": "kRukxkbGOF6f",
    "outputId": "4a0b9457-ea2d-426f-d489-ccf9ffeed44c",
    "tags": []
   },
   "outputs": [],
   "source": [
    "#Average price for each neighbourhood_group for each room_type\n",
    "average_price_neighbourhood_within_room_type=df.groupby(['neighbourhood_group', 'room_type'])['price'].mean().sort_values(ascending=False).head(10)\n",
    "print(\"Average price for each neighbourhood_group for each room_type:\\n\", average_price_neighbourhood_within_room_type)"
   ]
  },
  {
   "cell_type": "code",
   "execution_count": null,
   "metadata": {
    "colab": {
     "base_uri": "https://localhost:8080/",
     "height": 0
    },
    "id": "ZYdMMmbTOI8Y",
    "outputId": "6779d755-c4ad-43df-e613-5728192ac28c",
    "tags": []
   },
   "outputs": [],
   "source": [
    "data = df.groupby(['neighbourhood_group', 'neighbourhood', 'room_type'])['price'].mean().nlargest(10).reset_index()\n",
    "data"
   ]
  },
  {
   "cell_type": "markdown",
   "metadata": {
    "id": "RHH5u4sMOc0a"
   },
   "source": [
    "# ⏬ Visualization"
   ]
  },
  {
   "cell_type": "markdown",
   "metadata": {
    "id": "YKR-VFRUOoXY"
   },
   "source": [
    "##⬛Location Analysis"
   ]
  },
  {
   "cell_type": "code",
   "execution_count": null,
   "metadata": {
    "colab": {
     "base_uri": "https://localhost:8080/",
     "height": 696
    },
    "id": "3A9UA_F-OMSm",
    "outputId": "4524450f-6b8f-4bb4-f1bd-e8102994c348",
    "tags": []
   },
   "outputs": [],
   "source": [
    "#Hosts spread in New York City for room type\n",
    "plt.figure(figsize=(12, 8))\n",
    "sns.scatterplot(x='long', y='lat', data=df, hue='room_type', palette='Set1');"
   ]
  },
  {
   "cell_type": "code",
   "execution_count": null,
   "metadata": {
    "colab": {
     "base_uri": "https://localhost:8080/",
     "height": 696
    },
    "id": "tg14ZOYCOqvq",
    "outputId": "63d88952-03c0-470f-ce67-700fd9242445",
    "tags": []
   },
   "outputs": [],
   "source": [
    "#Hosts spread in New York City for neighbourhood_group\n",
    "plt.figure(figsize=(12, 8))\n",
    "sns.scatterplot(x='long', y='lat', data=df, hue='neighbourhood_group', palette='Set1');"
   ]
  },
  {
   "cell_type": "code",
   "execution_count": null,
   "metadata": {
    "id": "k0bJ7QTdO7Tb",
    "tags": []
   },
   "outputs": [],
   "source": [
    "lat_mean = df['lat'].mean()\n",
    "long_mean = df['long'].mean()\n",
    "area_lat = df['lat'].groupby(df['neighbourhood_group']).mean()\n",
    "area_long = df['long'].groupby(df['neighbourhood_group']).mean()\n",
    "area_lat_long= pd.concat([area_lat,area_long],axis=1)\n",
    "area_lat_long = area_lat_long.values.tolist()"
   ]
  },
  {
   "cell_type": "code",
   "execution_count": null,
   "metadata": {
    "colab": {
     "base_uri": "https://localhost:8080/",
     "height": 787
    },
    "id": "Ocr6Ay2TPHM2",
    "outputId": "c55ffe63-b17d-486b-b145-fd7f665c8ff7",
    "tags": []
   },
   "outputs": [],
   "source": [
    "#All in New York City\n",
    "\n",
    "\n",
    "map = folium.Map(\n",
    "                  # Center the map here\n",
    "                  location=[lat_mean,long_mean],\n",
    "                  zoom_start = 10\n",
    "                )\n",
    "for point in range(0, len(area_lat_long)):\n",
    "  _=folium.Marker(\n",
    "                      area_lat_long[point],\n",
    "                      popup = area_lat_long[point]\n",
    "                      ).add_to(map)\n",
    "map"
   ]
  },
  {
   "cell_type": "code",
   "execution_count": null,
   "metadata": {
    "colab": {
     "base_uri": "https://localhost:8080/",
     "height": 542
    },
    "id": "jBooNR-WPN4Q",
    "outputId": "60a9f8cb-45fd-444c-f461-e5f2cfe1d2d6",
    "tags": []
   },
   "outputs": [],
   "source": [
    "#What is prices depends on neighbourhood group by map ?\n",
    "fig = px.scatter_mapbox(df,lat=\"lat\",\n",
    "           lon=\"long\",\n",
    "           opacity = 0.3,\n",
    "           hover_name=\"neighbourhood_group\",\n",
    "           hover_data=[\"neighbourhood_group\", \"price\"],\n",
    "           color=\"price\",\n",
    "           color_discrete_sequence=px.colors.sequential.PuBuGn,\n",
    "           title = \"Price comparing to the place\",\n",
    "           template = \"plotly_dark\",\n",
    "           zoom=10\n",
    "           )\n",
    "fig.update_layout(mapbox_style=\"open-street-map\")\n",
    "fig.update_layout(margin={\"r\":0,\"t\":0,\"l\":0,\"b\":0},font = dict(size=17,family=\"Franklin Gothic\"))\n",
    "fig.show()"
   ]
  },
  {
   "cell_type": "markdown",
   "metadata": {
    "id": "uLJ9WpebSCeo"
   },
   "source": [
    "###⬛pieplot"
   ]
  },
  {
   "cell_type": "code",
   "execution_count": null,
   "metadata": {
    "colab": {
     "base_uri": "https://localhost:8080/",
     "height": 521
    },
    "id": "d5TDHv1URYKa",
    "outputId": "f377af30-e167-41ba-ed33-dc6a182953bc",
    "tags": []
   },
   "outputs": [],
   "source": [
    "# Count the occurrences of each neighborhood group\n",
    "neighborhood_group_counts = df['neighbourhood_group'].value_counts()\n",
    "\n",
    "# Plotting\n",
    "plt.figure(figsize=(8, 6))\n",
    "plt.pie(neighborhood_group_counts, labels=neighborhood_group_counts.index, autopct='%1.1f%%', startangle=140)\n",
    "plt.title('Distribution of Listings by Neighborhood Group')\n",
    "plt.axis('equal')  # Equal aspect ratio ensures that pie is drawn as a circle.\n",
    "plt.show()"
   ]
  },
  {
   "cell_type": "code",
   "execution_count": null,
   "metadata": {
    "colab": {
     "base_uri": "https://localhost:8080/",
     "height": 521
    },
    "id": "SJQlQhIdSRwb",
    "outputId": "b1e6893a-0bc8-4381-f201-9cdd95861e48",
    "tags": []
   },
   "outputs": [],
   "source": [
    "# Count the occurrences of each room type\n",
    "room_type_counts = df['room_type'].value_counts()\n",
    "\n",
    "# Plotting\n",
    "plt.figure(figsize=(8, 6))\n",
    "plt.pie(room_type_counts, labels=room_type_counts.index, autopct='%1.1f%%', startangle=140)\n",
    "plt.title('Distribution of Listings by Room Type')\n",
    "plt.axis('equal')  # Equal aspect ratio ensures that pie is drawn as a circle.\n",
    "plt.show()"
   ]
  },
  {
   "cell_type": "code",
   "execution_count": null,
   "metadata": {
    "colab": {
     "base_uri": "https://localhost:8080/",
     "height": 525
    },
    "id": "zMPXphm5SUM7",
    "outputId": "544af92c-4813-423d-ca9a-942ff264cbcc",
    "tags": []
   },
   "outputs": [],
   "source": [
    "# Assuming 'availability_365' is the column containing availability information\n",
    "\n",
    "availability_counts = pd.cut(df['availability_365'], bins=[0, 50, 100, 150, 200, 250, 300, 365]).value_counts()\n",
    "\n",
    "plt.figure(figsize=(8, 6))\n",
    "plt.pie(availability_counts, labels=availability_counts.index, autopct='%1.1f%%', startangle=140)\n",
    "plt.title('Distribution of Listings by Availability')\n",
    "plt.axis('equal')\n",
    "plt.show()"
   ]
  },
  {
   "cell_type": "code",
   "execution_count": null,
   "metadata": {
    "colab": {
     "base_uri": "https://localhost:8080/",
     "height": 527
    },
    "id": "ZRJt_2RxSWPJ",
    "outputId": "b0e9134f-5fe8-444c-97c9-2f12406087a3",
    "tags": []
   },
   "outputs": [],
   "source": [
    "# Assuming 'host_name' is the column containing host information\n",
    "host_counts = df['host_name'].value_counts()\n",
    "\n",
    "plt.figure(figsize=(8, 6))\n",
    "plt.pie(host_counts.head(10), labels=host_counts.head(10).index, autopct='%1.1f%%', startangle=140)\n",
    "plt.title('Top 10 Hosts with Most Listings')\n",
    "plt.axis('equal')\n",
    "plt.show()"
   ]
  },
  {
   "cell_type": "code",
   "execution_count": null,
   "metadata": {
    "colab": {
     "base_uri": "https://localhost:8080/",
     "height": 527
    },
    "id": "NYI8DJZDSX5f",
    "outputId": "48112696-400b-4de9-ea79-43853f5d30a0",
    "tags": []
   },
   "outputs": [],
   "source": [
    "\n",
    "# Assuming 'calculated_host_listings_count' is the column containing the calculated listings count by the host\n",
    "calculated_host_listings_count_counts = df['calculated_host_listings_count'].value_counts()\n",
    "\n",
    "# For better visualization, let's consider only the top 5 most frequent counts\n",
    "top_counts = calculated_host_listings_count_counts.head(5)\n",
    "\n",
    "plt.figure(figsize=(8, 6))\n",
    "plt.pie(top_counts, labels=top_counts.index, autopct='%1.1f%%', startangle=140)\n",
    "plt.title('Distribution of Listings by Host\\'s Calculated Listings Count (Top 5)')\n",
    "plt.axis('equal')\n",
    "plt.show()"
   ]
  },
  {
   "cell_type": "markdown",
   "metadata": {
    "id": "RPMVXe9dTOsq"
   },
   "source": [
    "##⬛facetgrid\n"
   ]
  },
  {
   "cell_type": "code",
   "execution_count": null,
   "metadata": {
    "colab": {
     "base_uri": "https://localhost:8080/",
     "height": 226
    },
    "id": "VI_AR4zCSqoL",
    "outputId": "cd234917-22bb-422c-d12c-b6f7cc553742",
    "tags": []
   },
   "outputs": [],
   "source": [
    "#FacetGrid showing the relationship between 'neighbourhood_group' and 'price' for different room_type:\n",
    "\n",
    "g = sns.FacetGrid(df, col='room_type', height=4, aspect=1.5, palette='Set1')\n",
    "g.map(sns.barplot, 'neighbourhood_group', 'price', order=df.neighbourhood_group.value_counts().index);"
   ]
  },
  {
   "cell_type": "code",
   "execution_count": null,
   "metadata": {
    "colab": {
     "base_uri": "https://localhost:8080/",
     "height": 184
    },
    "id": "el_V3GPwTQyL",
    "outputId": "e12310e3-394a-42a0-97fd-7512a60b1d40",
    "tags": []
   },
   "outputs": [],
   "source": [
    "#FacetGrid showing the relationship between 'room_type' and 'price' for different neighbourhood_group:\n",
    "\n",
    "g = sns.FacetGrid(df, col='neighbourhood_group', height=4, aspect=1.5, palette='Set1')\n",
    "g.map(sns.barplot, 'room_type', 'price', order=df.room_type.value_counts().index);"
   ]
  },
  {
   "cell_type": "markdown",
   "metadata": {
    "id": "ispxT1V_TX5Q"
   },
   "source": [
    "##⬛Heatmap"
   ]
  },
  {
   "cell_type": "code",
   "execution_count": null,
   "metadata": {
    "colab": {
     "base_uri": "https://localhost:8080/",
     "height": 984
    },
    "id": "fHktDldKTSjR",
    "outputId": "421bff59-823a-474b-a386-714a671031ba",
    "tags": []
   },
   "outputs": [],
   "source": [
    "#Heatmap for all data\n",
    "# Generate heatmap for all data\n",
    "plt.figure(figsize=(10, 8))\n",
    "sns.heatmap(df.corr(), annot=True, cmap='coolwarm', fmt=\".2f\", linewidths=0.5)\n",
    "plt.title('Correlation Heatmap for All Data')\n",
    "plt.show()\n"
   ]
  },
  {
   "cell_type": "markdown",
   "metadata": {
    "id": "_RUYkMkLTvMl"
   },
   "source": [
    "##⬛countplot & ⬛barplot"
   ]
  },
  {
   "cell_type": "code",
   "execution_count": null,
   "metadata": {
    "colab": {
     "base_uri": "https://localhost:8080/",
     "height": 840
    },
    "id": "WO4iHprjTqiv",
    "outputId": "ce59bbdd-7760-4fda-ca85-e043c13aeacc",
    "tags": []
   },
   "outputs": [],
   "source": [
    "# Countplot for the top 10 neighborhoods\n",
    "plt.figure(figsize=(12, 8))\n",
    "sns.countplot(y='neighbourhood', data=df, order=df['neighbourhood'].value_counts().nlargest(10).index, palette='Set1')\n",
    "plt.title('Countplot of Top 10 Neighborhoods')\n",
    "plt.xlabel('Count')\n",
    "plt.ylabel('Neighborhood')\n",
    "plt.show()"
   ]
  },
  {
   "cell_type": "code",
   "execution_count": null,
   "metadata": {
    "colab": {
     "base_uri": "https://localhost:8080/",
     "height": 840
    },
    "id": "3ndC5IQtTa_f",
    "outputId": "f96658fd-dc34-427e-9617-e68b566fd60d",
    "tags": []
   },
   "outputs": [],
   "source": [
    "# Countplot for the top 10 hosts\n",
    "plt.figure(figsize=(12, 8))\n",
    "sns.countplot(y='host_name', data=df, order=df['host_name'].value_counts().nlargest(10).index, palette='Set2')\n",
    "plt.title('Countplot of Top 10 Hosts')\n",
    "plt.xlabel('Count')\n",
    "plt.ylabel('Host Name')\n",
    "plt.show()"
   ]
  },
  {
   "cell_type": "code",
   "execution_count": null,
   "metadata": {
    "colab": {
     "base_uri": "https://localhost:8080/",
     "height": 686
    },
    "id": "R5WeC5GqT3bU",
    "outputId": "28e96cb2-ef5f-4070-a9a7-244e00f50432",
    "tags": []
   },
   "outputs": [],
   "source": [
    "# Countplot for the  room types\n",
    "plt.figure(figsize=(10, 6))\n",
    "sns.countplot(y='room_type', data=df, order=df['room_type'].value_counts().nlargest(3).index, palette='viridis')\n",
    "plt.title('Countplot of  Room Types')\n",
    "plt.xlabel('Count')\n",
    "plt.ylabel('Room Type')\n",
    "plt.show()"
   ]
  },
  {
   "cell_type": "code",
   "execution_count": null,
   "metadata": {
    "colab": {
     "base_uri": "https://localhost:8080/",
     "height": 718
    },
    "id": "_f1QRB5hT5PE",
    "outputId": "844477b0-e13f-4ef3-d5d9-4220edcb2589",
    "tags": []
   },
   "outputs": [],
   "source": [
    "# Barplot for 'neighbourhood_group' vs 'price' with hue='room_type'\n",
    "plt.figure(figsize=(12, 8))\n",
    "sns.barplot(x='neighbourhood_group', y='price', hue='room_type', data=df, order=df['neighbourhood_group'].value_counts().index, palette='Set1')\n",
    "plt.title('Barplot of Price by Neighbourhood Group with Room Type')\n",
    "plt.xlabel('Neighbourhood Group')\n",
    "plt.ylabel('Price')\n",
    "plt.show()"
   ]
  },
  {
   "cell_type": "code",
   "execution_count": null,
   "metadata": {
    "colab": {
     "base_uri": "https://localhost:8080/",
     "height": 718
    },
    "id": "_MU2WdDpT7nk",
    "outputId": "171b2064-b3d7-48eb-fb71-7341af033504",
    "tags": []
   },
   "outputs": [],
   "source": [
    "# Barplot for 'room_type' vs 'price' with hue='neighbourhood_group'\n",
    "plt.figure(figsize=(12, 8))\n",
    "sns.barplot(x='room_type', y='price', hue='neighbourhood_group', data=df, palette='Set2')\n",
    "plt.title('Barplot of Price by Room Type with Neighbourhood Group')\n",
    "plt.xlabel('Room Type')\n",
    "plt.ylabel('Price')\n",
    "plt.show()"
   ]
  },
  {
   "cell_type": "code",
   "execution_count": null,
   "metadata": {
    "colab": {
     "base_uri": "https://localhost:8080/",
     "height": 811
    },
    "id": "MdBvKafXT9r8",
    "outputId": "f4d9a06b-61a6-4c25-ea06-657a6390393d",
    "tags": []
   },
   "outputs": [],
   "source": [
    "# Barplot for 'neighbourhood' vs 'price' with hue='room_type'\n",
    "plt.figure(figsize=(14, 8))\n",
    "sns.barplot(x='neighbourhood', y='price', hue='room_type', data=df, order=df['neighbourhood'].value_counts().index[:10], palette='viridis')\n",
    "plt.title('Barplot of Price by Neighbourhood with Room Type')\n",
    "plt.xlabel('Neighbourhood')\n",
    "plt.ylabel('Price')\n",
    "plt.xticks(rotation=45)\n",
    "plt.show()"
   ]
  },
  {
   "cell_type": "code",
   "execution_count": null,
   "metadata": {
    "colab": {
     "base_uri": "https://localhost:8080/",
     "height": 853
    },
    "id": "WE9h0Y5wUANN",
    "outputId": "a9eaf7be-30fa-4dd4-9cc9-135c0d63dad2",
    "tags": []
   },
   "outputs": [],
   "source": [
    "#Who is Top 25 most reviewed neighbourhoods\n",
    "top_25_reviewed_neighbourhoods = df.groupby(['neighbourhood'])['number_of_reviews'].sum().sort_values(ascending=False)[0:24]\n",
    "plt.figure(figsize=(10,10))\n",
    "plt.title(\"Top 25 most reviewed neighbourhoods\")\n",
    "sns.barplot(x=top_25_reviewed_neighbourhoods.values,y=top_25_reviewed_neighbourhoods.index)\n",
    "plt.show()\n"
   ]
  },
  {
   "cell_type": "code",
   "execution_count": null,
   "metadata": {
    "colab": {
     "base_uri": "https://localhost:8080/",
     "height": 542
    },
    "id": "eCowWystUK0T",
    "outputId": "dd073e66-a473-4858-ae6b-60abe525d78f",
    "tags": []
   },
   "outputs": [],
   "source": [
    "#What is the average availability for each neighbourhood group\n",
    "availability_per_neighbourhood_group = df.groupby('neighbourhood_group')['availability_365'].mean()\n",
    "fig = px.bar(availability_per_neighbourhood_group,\n",
    "            x=availability_per_neighbourhood_group.index,\n",
    "            y=availability_per_neighbourhood_group.values,\n",
    "            labels={'x': 'Neighbourhood group', 'y': 'Average availability'},\n",
    "            text=[str(round(i)) for i in availability_per_neighbourhood_group.values],\n",
    "            title='Average availability per neighbourhood group',\n",
    "            color_discrete_sequence=px.colors.sequential.deep,\n",
    "            template='plotly_dark'\n",
    ")\n",
    "\n",
    "fig.update_layout(font=dict(size=20, color='white', family='Avenir'))\n",
    "\n",
    "fig.show()"
   ]
  },
  {
   "cell_type": "code",
   "execution_count": null,
   "metadata": {
    "colab": {
     "base_uri": "https://localhost:8080/",
     "height": 952
    },
    "id": "HyUhox6cUk7b",
    "outputId": "459511ff-ec6f-45bd-d930-62289dcf8fc1",
    "tags": []
   },
   "outputs": [],
   "source": [
    "#Which neighbourhood do you give the highest ratings to\n",
    "avg_rating_per_neighbourhood = df.groupby(['neighbourhood'])['review_rate_number'].mean().sort_values(ascending=False)[0:24]\n",
    "plt.figure(figsize=(8,10))\n",
    "sns.barplot(x=avg_rating_per_neighbourhood.values, y=avg_rating_per_neighbourhood.index, palette='rocket')\n",
    "plt.show()"
   ]
  },
  {
   "cell_type": "code",
   "execution_count": null,
   "metadata": {
    "colab": {
     "base_uri": "https://localhost:8080/",
     "height": 542
    },
    "id": "rVxden7qUye7",
    "outputId": "0856e29f-6355-47b9-ad9c-a1c4579384ef",
    "tags": []
   },
   "outputs": [],
   "source": [
    "#What are the average price for each room type\n",
    "price_per_room_type = df.groupby('room_type')['price'].median()\n",
    "fig = px.bar(price_per_room_type,\n",
    "            x=price_per_room_type.index,\n",
    "            y=price_per_room_type.values,\n",
    "            labels={'x': 'Room type', 'y': 'Average price'},\n",
    "            text=['$' + str(int(i)) for i in price_per_room_type.values],\n",
    "            title='Average price per room type in USD',\n",
    "            color_discrete_sequence=px.colors.sequential.Bluyl,\n",
    "            template='plotly_dark'\n",
    ")\n",
    "\n",
    "fig.update_layout(font=dict(size=16, color='white', family='Avenir'))\n",
    "\n",
    "fig.show()"
   ]
  },
  {
   "cell_type": "code",
   "execution_count": null,
   "metadata": {
    "colab": {
     "base_uri": "https://localhost:8080/",
     "height": 542
    },
    "id": "nM6KUhYoVarh",
    "outputId": "aa899586-fbf7-47fa-b11e-e69e21fbf1a4",
    "tags": []
   },
   "outputs": [],
   "source": [
    "#How many constructions are there for each year\n",
    "constructions_per_year = df.groupby('Construction_year')['Construction_year'].count()\n",
    "\n",
    "# Let's plot them using plotly's barplot with value counts\n",
    "fig = px.bar(constructions_per_year,\n",
    "            x=constructions_per_year.index,\n",
    "            y=constructions_per_year.values,\n",
    "            labels={'x': 'Construction year', 'y': 'Number of constructions'},\n",
    "            text=[str(i) for i in constructions_per_year.values],\n",
    "            title='Number of constructions per year',\n",
    "            template='plotly_dark'\n",
    ")\n",
    "\n",
    "fig.update_layout(font=dict(size=20, color='white', family='Avenir'))\n",
    "\n",
    "fig.show()"
   ]
  },
  {
   "cell_type": "code",
   "execution_count": null,
   "metadata": {
    "colab": {
     "base_uri": "https://localhost:8080/",
     "height": 542
    },
    "id": "7xugzvN1VzU7",
    "outputId": "8eb0df73-1729-4cdf-9097-4822f1b848d6",
    "tags": []
   },
   "outputs": [],
   "source": [
    "#What are the price ranges for each construction year\n",
    "price_per_year = df.groupby('Construction_year')['price'].count()\n",
    "\n",
    "fig = px.bar(price_per_year,\n",
    "            x=price_per_year.index,\n",
    "            y=price_per_year.values,\n",
    "            labels={'x': 'Construction year', 'y': 'Average price'},\n",
    "            text=['$' + str(int(i)) for i in price_per_year.values],\n",
    "            title='Average price per construction year in USD',\n",
    "            color_discrete_sequence=px.colors.sequential.RdBu,\n",
    "            template='plotly_dark'\n",
    ")\n",
    "\n",
    "fig.update_layout(font=dict(size=16, color='white', family='Avenir'))\n",
    "\n",
    "fig.show()"
   ]
  },
  {
   "cell_type": "code",
   "execution_count": null,
   "metadata": {
    "colab": {
     "base_uri": "https://localhost:8080/",
     "height": 542
    },
    "id": "nSr60lnJV_qu",
    "outputId": "aad9e892-f9a0-4702-96d9-985285899653",
    "tags": []
   },
   "outputs": [],
   "source": [
    "#What are the average service fee for each neighbourhood group\n",
    "service_fee_per_neighbourhood_group = df.groupby('neighbourhood_group')['service_fee'].mean()\n",
    "fig = px.bar(service_fee_per_neighbourhood_group,\n",
    "            x=service_fee_per_neighbourhood_group.index,\n",
    "            y=service_fee_per_neighbourhood_group.values,\n",
    "            labels={'x': 'Neighbourhood_group', 'y': 'Average service fee'},\n",
    "            text=['$' + str(int(i)) for i in service_fee_per_neighbourhood_group.values],\n",
    "            title='Average service fee per neighbourhood group in USD',\n",
    "            color_discrete_sequence=px.colors.sequential.Plasma,\n",
    "            template='plotly_dark'\n",
    ")\n",
    "\n",
    "fig.update_layout(font=dict(size=16, color='white', family='Avenir'))\n",
    "\n",
    "fig.show()"
   ]
  },
  {
   "cell_type": "code",
   "execution_count": null,
   "metadata": {
    "colab": {
     "base_uri": "https://localhost:8080/",
     "height": 542
    },
    "id": "UqWlzAUSXNFo",
    "outputId": "fa5916d8-bc05-4d8f-e49e-5bc54f2c764a",
    "tags": []
   },
   "outputs": [],
   "source": [
    "#What are the average review rates for each neighbourhood group\n",
    "review_rate_per_neighbourhood_group = df.groupby('neighbourhood_group')['review_rate_number'].mean()\n",
    "\n",
    "# Let's plot them using plotly's barplot with value counts\n",
    "fig = px.bar(review_rate_per_neighbourhood_group,\n",
    "            x=review_rate_per_neighbourhood_group.index,\n",
    "            y=review_rate_per_neighbourhood_group.values,\n",
    "            labels={'x': 'Neighbourhood group', 'y': 'Average review rate'},\n",
    "            text=[str(round(i, 2)) for i in review_rate_per_neighbourhood_group.values],\n",
    "            title='Average review rate per neighbourhood group',\n",
    "            color_discrete_sequence=px.colors.sequential.algae,\n",
    "            template='plotly_dark'\n",
    ")\n",
    "\n",
    "fig.update_layout(font=dict(size=20, color='white', family='Avenir'))\n",
    "\n",
    "fig.show()"
   ]
  },
  {
   "cell_type": "markdown",
   "metadata": {
    "id": "SBPBRPycYaru"
   },
   "source": [
    "##⬛pairplot"
   ]
  },
  {
   "cell_type": "code",
   "execution_count": null,
   "metadata": {
    "colab": {
     "base_uri": "https://localhost:8080/",
     "height": 1000
    },
    "id": "ozMuFeOtYZPX",
    "outputId": "8abb5cdc-d89a-4cbf-b274-59d0d532649d",
    "tags": []
   },
   "outputs": [],
   "source": [
    "sns.pairplot(df[['price', 'minimum_nights', 'number_of_reviews', 'calculated_host_listings_count', 'availability_365','Construction_year','service_fee','review_rate_number']]);"
   ]
  },
  {
   "cell_type": "markdown",
   "metadata": {
    "id": "NPIC-spzZZ4b"
   },
   "source": [
    "##⬛Lineplot"
   ]
  },
  {
   "cell_type": "code",
   "execution_count": null,
   "metadata": {
    "colab": {
     "base_uri": "https://localhost:8080/",
     "height": 542
    },
    "id": "XPfvVXoOZRTL",
    "outputId": "fe501612-606e-43a0-ca16-16512b3a1eb5",
    "tags": []
   },
   "outputs": [],
   "source": [
    "#Is the later construction year correlated with higher price\n",
    "price_per_year = df.groupby('Construction_year')['price'].median()\n",
    "fig = px.line(price_per_year,\n",
    "            x=price_per_year.index,\n",
    "            y=price_per_year.values,\n",
    "            labels={'x': 'Construction year', 'y': 'Average price'},\n",
    "            text=['$' + str(int(i)) for i in price_per_year.values],\n",
    "            title='Average price per construction year in USD',\n",
    "            color_discrete_sequence=px.colors.sequential.Teal_r,\n",
    "            template='plotly_dark'\n",
    ")\n",
    "\n",
    "fig.update_layout(font=dict(size=16, color='white', family='Avenir'))\n",
    "\n",
    "fig.show()"
   ]
  },
  {
   "cell_type": "markdown",
   "metadata": {
    "id": "ilup4wS9Z0__"
   },
   "source": [
    "# ⏬ Preprocessing"
   ]
  },
  {
   "cell_type": "code",
   "execution_count": 100,
   "metadata": {
    "id": "2MPtOjqBZ53p",
    "tags": []
   },
   "outputs": [],
   "source": [
    "from sklearn.model_selection import train_test_split\n",
    "from sklearn.preprocessing import StandardScaler , OrdinalEncoder , PolynomialFeatures ,RobustScaler\n",
    "\n",
    "from sklearn.model_selection import GridSearchCV\n",
    "from sklearn.linear_model import LinearRegression , Ridge , Lasso , ElasticNet\n",
    "from sklearn.svm import SVR\n",
    "from sklearn.metrics import mean_squared_error , r2_score\n",
    "from sklearn.neighbors import KNeighborsRegressor\n",
    "from sklearn.ensemble import RandomForestRegressor\n",
    "from sklearn.ensemble import AdaBoostRegressor\n",
    "from sklearn.ensemble import GradientBoostingRegressor\n",
    "from sklearn.tree import DecisionTreeRegressor\n",
    "from xgboost import XGBRegressor\n",
    "from sklearn.pipeline import Pipeline\n",
    "from category_encoders import BinaryEncoder\n",
    "from sklearn.compose import ColumnTransformer\n",
    "from sklearn.model_selection import cross_val_score\n",
    "from sklearn.svm import LinearSVR"
   ]
  },
  {
   "cell_type": "code",
   "execution_count": 101,
   "metadata": {
    "colab": {
     "base_uri": "https://localhost:8080/",
     "height": 947
    },
    "id": "rJFypeV3a8it",
    "outputId": "a7e53199-a301-4814-aff2-bcc5d704f0c8",
    "tags": []
   },
   "outputs": [
    {
     "data": {
      "text/html": [
       "<div>\n",
       "<style scoped>\n",
       "    .dataframe tbody tr th:only-of-type {\n",
       "        vertical-align: middle;\n",
       "    }\n",
       "\n",
       "    .dataframe tbody tr th {\n",
       "        vertical-align: top;\n",
       "    }\n",
       "\n",
       "    .dataframe thead th {\n",
       "        text-align: right;\n",
       "    }\n",
       "</style>\n",
       "<table border=\"1\" class=\"dataframe\">\n",
       "  <thead>\n",
       "    <tr style=\"text-align: right;\">\n",
       "      <th></th>\n",
       "      <th>NAME</th>\n",
       "      <th>host_identity_verified</th>\n",
       "      <th>host_name</th>\n",
       "      <th>neighbourhood_group</th>\n",
       "      <th>neighbourhood</th>\n",
       "      <th>lat</th>\n",
       "      <th>long</th>\n",
       "      <th>instant_bookable</th>\n",
       "      <th>cancellation_policy</th>\n",
       "      <th>room_type</th>\n",
       "      <th>Construction_year</th>\n",
       "      <th>price</th>\n",
       "      <th>service_fee</th>\n",
       "      <th>minimum_nights</th>\n",
       "      <th>number_of_reviews</th>\n",
       "      <th>review_rate_number</th>\n",
       "      <th>calculated_host_listings_count</th>\n",
       "      <th>availability_365</th>\n",
       "    </tr>\n",
       "  </thead>\n",
       "  <tbody>\n",
       "    <tr>\n",
       "      <th>0</th>\n",
       "      <td>Clean &amp; quiet apt home by the park</td>\n",
       "      <td>unconfirmed</td>\n",
       "      <td>Madaline</td>\n",
       "      <td>Brooklyn</td>\n",
       "      <td>Kensington</td>\n",
       "      <td>40.64749</td>\n",
       "      <td>-73.97237</td>\n",
       "      <td>False</td>\n",
       "      <td>strict</td>\n",
       "      <td>Private room</td>\n",
       "      <td>2020.0</td>\n",
       "      <td>966.0</td>\n",
       "      <td>193.0</td>\n",
       "      <td>10.0</td>\n",
       "      <td>9.0</td>\n",
       "      <td>4.0</td>\n",
       "      <td>6.0</td>\n",
       "      <td>286.0</td>\n",
       "    </tr>\n",
       "    <tr>\n",
       "      <th>1</th>\n",
       "      <td>Skylit Midtown Castle</td>\n",
       "      <td>verified</td>\n",
       "      <td>Jenna</td>\n",
       "      <td>Manhattan</td>\n",
       "      <td>Midtown</td>\n",
       "      <td>40.75362</td>\n",
       "      <td>-73.98377</td>\n",
       "      <td>False</td>\n",
       "      <td>moderate</td>\n",
       "      <td>Entire home/apt</td>\n",
       "      <td>2007.0</td>\n",
       "      <td>142.0</td>\n",
       "      <td>28.0</td>\n",
       "      <td>30.0</td>\n",
       "      <td>45.0</td>\n",
       "      <td>4.0</td>\n",
       "      <td>2.0</td>\n",
       "      <td>228.0</td>\n",
       "    </tr>\n",
       "    <tr>\n",
       "      <th>4</th>\n",
       "      <td>Entire Apt: Spacious Studio/Loft by central park</td>\n",
       "      <td>verified</td>\n",
       "      <td>Lyndon</td>\n",
       "      <td>Manhattan</td>\n",
       "      <td>East Harlem</td>\n",
       "      <td>40.79851</td>\n",
       "      <td>-73.94399</td>\n",
       "      <td>False</td>\n",
       "      <td>moderate</td>\n",
       "      <td>Entire home/apt</td>\n",
       "      <td>2009.0</td>\n",
       "      <td>204.0</td>\n",
       "      <td>41.0</td>\n",
       "      <td>10.0</td>\n",
       "      <td>9.0</td>\n",
       "      <td>3.0</td>\n",
       "      <td>1.0</td>\n",
       "      <td>289.0</td>\n",
       "    </tr>\n",
       "    <tr>\n",
       "      <th>8</th>\n",
       "      <td>Large Furnished Room Near B'way</td>\n",
       "      <td>verified</td>\n",
       "      <td>Evelyn</td>\n",
       "      <td>Manhattan</td>\n",
       "      <td>Hell's Kitchen</td>\n",
       "      <td>40.76489</td>\n",
       "      <td>-73.98493</td>\n",
       "      <td>True</td>\n",
       "      <td>strict</td>\n",
       "      <td>Private room</td>\n",
       "      <td>2005.0</td>\n",
       "      <td>1018.0</td>\n",
       "      <td>204.0</td>\n",
       "      <td>2.0</td>\n",
       "      <td>430.0</td>\n",
       "      <td>3.0</td>\n",
       "      <td>1.0</td>\n",
       "      <td>180.0</td>\n",
       "    </tr>\n",
       "    <tr>\n",
       "      <th>10</th>\n",
       "      <td>Cute &amp; Cozy Lower East Side 1 bdrm</td>\n",
       "      <td>verified</td>\n",
       "      <td>Miranda</td>\n",
       "      <td>Manhattan</td>\n",
       "      <td>Chinatown</td>\n",
       "      <td>40.71344</td>\n",
       "      <td>-73.99037</td>\n",
       "      <td>False</td>\n",
       "      <td>flexible</td>\n",
       "      <td>Entire home/apt</td>\n",
       "      <td>2004.0</td>\n",
       "      <td>319.0</td>\n",
       "      <td>64.0</td>\n",
       "      <td>1.0</td>\n",
       "      <td>160.0</td>\n",
       "      <td>3.0</td>\n",
       "      <td>4.0</td>\n",
       "      <td>1.0</td>\n",
       "    </tr>\n",
       "    <tr>\n",
       "      <th>...</th>\n",
       "      <td>...</td>\n",
       "      <td>...</td>\n",
       "      <td>...</td>\n",
       "      <td>...</td>\n",
       "      <td>...</td>\n",
       "      <td>...</td>\n",
       "      <td>...</td>\n",
       "      <td>...</td>\n",
       "      <td>...</td>\n",
       "      <td>...</td>\n",
       "      <td>...</td>\n",
       "      <td>...</td>\n",
       "      <td>...</td>\n",
       "      <td>...</td>\n",
       "      <td>...</td>\n",
       "      <td>...</td>\n",
       "      <td>...</td>\n",
       "      <td>...</td>\n",
       "    </tr>\n",
       "    <tr>\n",
       "      <th>102037</th>\n",
       "      <td>Bx Apartment</td>\n",
       "      <td>unconfirmed</td>\n",
       "      <td>Vii</td>\n",
       "      <td>Bronx</td>\n",
       "      <td>Olinville</td>\n",
       "      <td>40.88438</td>\n",
       "      <td>-73.86397</td>\n",
       "      <td>True</td>\n",
       "      <td>strict</td>\n",
       "      <td>Private room</td>\n",
       "      <td>2008.0</td>\n",
       "      <td>531.0</td>\n",
       "      <td>0.0</td>\n",
       "      <td>1.0</td>\n",
       "      <td>0.0</td>\n",
       "      <td>3.0</td>\n",
       "      <td>1.0</td>\n",
       "      <td>0.0</td>\n",
       "    </tr>\n",
       "    <tr>\n",
       "      <th>102038</th>\n",
       "      <td>HUGE BEDROOM LORIMER L TRAIN!!!</td>\n",
       "      <td>unconfirmed</td>\n",
       "      <td>Jose</td>\n",
       "      <td>Brooklyn</td>\n",
       "      <td>Williamsburg</td>\n",
       "      <td>40.71355</td>\n",
       "      <td>-73.95003</td>\n",
       "      <td>True</td>\n",
       "      <td>flexible</td>\n",
       "      <td>Private room</td>\n",
       "      <td>2016.0</td>\n",
       "      <td>570.0</td>\n",
       "      <td>0.0</td>\n",
       "      <td>28.0</td>\n",
       "      <td>17.0</td>\n",
       "      <td>1.0</td>\n",
       "      <td>6.0</td>\n",
       "      <td>229.0</td>\n",
       "    </tr>\n",
       "    <tr>\n",
       "      <th>102039</th>\n",
       "      <td>Spacious two bedrooms condo in upper Manhattan</td>\n",
       "      <td>verified</td>\n",
       "      <td>Max</td>\n",
       "      <td>Manhattan</td>\n",
       "      <td>Inwood</td>\n",
       "      <td>40.86461</td>\n",
       "      <td>-73.92363</td>\n",
       "      <td>True</td>\n",
       "      <td>moderate</td>\n",
       "      <td>Entire home/apt</td>\n",
       "      <td>2003.0</td>\n",
       "      <td>665.0</td>\n",
       "      <td>0.0</td>\n",
       "      <td>2.0</td>\n",
       "      <td>49.0</td>\n",
       "      <td>1.0</td>\n",
       "      <td>3.0</td>\n",
       "      <td>147.0</td>\n",
       "    </tr>\n",
       "    <tr>\n",
       "      <th>102040</th>\n",
       "      <td>Room in Queens, NY, near LGA.</td>\n",
       "      <td>verified</td>\n",
       "      <td>Sonia</td>\n",
       "      <td>Queens</td>\n",
       "      <td>East Elmhurst</td>\n",
       "      <td>40.76245</td>\n",
       "      <td>-73.87938</td>\n",
       "      <td>True</td>\n",
       "      <td>strict</td>\n",
       "      <td>Private room</td>\n",
       "      <td>2022.0</td>\n",
       "      <td>982.0</td>\n",
       "      <td>196.0</td>\n",
       "      <td>1.0</td>\n",
       "      <td>239.0</td>\n",
       "      <td>2.0</td>\n",
       "      <td>2.0</td>\n",
       "      <td>361.0</td>\n",
       "    </tr>\n",
       "    <tr>\n",
       "      <th>102057</th>\n",
       "      <td>Rosalee Stewart</td>\n",
       "      <td>verified</td>\n",
       "      <td>Stanley</td>\n",
       "      <td>Manhattan</td>\n",
       "      <td>Harlem</td>\n",
       "      <td>40.81315</td>\n",
       "      <td>-73.94747</td>\n",
       "      <td>False</td>\n",
       "      <td>flexible</td>\n",
       "      <td>Entire home/apt</td>\n",
       "      <td>2011.0</td>\n",
       "      <td>1128.0</td>\n",
       "      <td>0.0</td>\n",
       "      <td>4.0</td>\n",
       "      <td>22.0</td>\n",
       "      <td>4.0</td>\n",
       "      <td>1.0</td>\n",
       "      <td>238.0</td>\n",
       "    </tr>\n",
       "  </tbody>\n",
       "</table>\n",
       "<p>92922 rows × 18 columns</p>\n",
       "</div>"
      ],
      "text/plain": [
       "                                                    NAME  \\\n",
       "0                     Clean & quiet apt home by the park   \n",
       "1                                  Skylit Midtown Castle   \n",
       "4       Entire Apt: Spacious Studio/Loft by central park   \n",
       "8                        Large Furnished Room Near B'way   \n",
       "10                    Cute & Cozy Lower East Side 1 bdrm   \n",
       "...                                                  ...   \n",
       "102037                                      Bx Apartment   \n",
       "102038                   HUGE BEDROOM LORIMER L TRAIN!!!   \n",
       "102039    Spacious two bedrooms condo in upper Manhattan   \n",
       "102040                     Room in Queens, NY, near LGA.   \n",
       "102057                                   Rosalee Stewart   \n",
       "\n",
       "       host_identity_verified host_name neighbourhood_group   neighbourhood  \\\n",
       "0                 unconfirmed  Madaline            Brooklyn      Kensington   \n",
       "1                    verified     Jenna           Manhattan         Midtown   \n",
       "4                    verified    Lyndon           Manhattan     East Harlem   \n",
       "8                    verified    Evelyn           Manhattan  Hell's Kitchen   \n",
       "10                   verified   Miranda           Manhattan       Chinatown   \n",
       "...                       ...       ...                 ...             ...   \n",
       "102037            unconfirmed       Vii               Bronx       Olinville   \n",
       "102038            unconfirmed      Jose            Brooklyn    Williamsburg   \n",
       "102039               verified       Max           Manhattan          Inwood   \n",
       "102040               verified     Sonia              Queens   East Elmhurst   \n",
       "102057               verified   Stanley           Manhattan          Harlem   \n",
       "\n",
       "             lat      long instant_bookable cancellation_policy  \\\n",
       "0       40.64749 -73.97237            False              strict   \n",
       "1       40.75362 -73.98377            False            moderate   \n",
       "4       40.79851 -73.94399            False            moderate   \n",
       "8       40.76489 -73.98493             True              strict   \n",
       "10      40.71344 -73.99037            False            flexible   \n",
       "...          ...       ...              ...                 ...   \n",
       "102037  40.88438 -73.86397             True              strict   \n",
       "102038  40.71355 -73.95003             True            flexible   \n",
       "102039  40.86461 -73.92363             True            moderate   \n",
       "102040  40.76245 -73.87938             True              strict   \n",
       "102057  40.81315 -73.94747            False            flexible   \n",
       "\n",
       "              room_type  Construction_year   price  service_fee  \\\n",
       "0          Private room             2020.0   966.0        193.0   \n",
       "1       Entire home/apt             2007.0   142.0         28.0   \n",
       "4       Entire home/apt             2009.0   204.0         41.0   \n",
       "8          Private room             2005.0  1018.0        204.0   \n",
       "10      Entire home/apt             2004.0   319.0         64.0   \n",
       "...                 ...                ...     ...          ...   \n",
       "102037     Private room             2008.0   531.0          0.0   \n",
       "102038     Private room             2016.0   570.0          0.0   \n",
       "102039  Entire home/apt             2003.0   665.0          0.0   \n",
       "102040     Private room             2022.0   982.0        196.0   \n",
       "102057  Entire home/apt             2011.0  1128.0          0.0   \n",
       "\n",
       "        minimum_nights  number_of_reviews  review_rate_number  \\\n",
       "0                 10.0                9.0                 4.0   \n",
       "1                 30.0               45.0                 4.0   \n",
       "4                 10.0                9.0                 3.0   \n",
       "8                  2.0              430.0                 3.0   \n",
       "10                 1.0              160.0                 3.0   \n",
       "...                ...                ...                 ...   \n",
       "102037             1.0                0.0                 3.0   \n",
       "102038            28.0               17.0                 1.0   \n",
       "102039             2.0               49.0                 1.0   \n",
       "102040             1.0              239.0                 2.0   \n",
       "102057             4.0               22.0                 4.0   \n",
       "\n",
       "        calculated_host_listings_count  availability_365  \n",
       "0                                  6.0             286.0  \n",
       "1                                  2.0             228.0  \n",
       "4                                  1.0             289.0  \n",
       "8                                  1.0             180.0  \n",
       "10                                 4.0               1.0  \n",
       "...                                ...               ...  \n",
       "102037                             1.0               0.0  \n",
       "102038                             6.0             229.0  \n",
       "102039                             3.0             147.0  \n",
       "102040                             2.0             361.0  \n",
       "102057                             1.0             238.0  \n",
       "\n",
       "[92922 rows x 18 columns]"
      ]
     },
     "execution_count": 101,
     "metadata": {},
     "output_type": "execute_result"
    }
   ],
   "source": [
    "df"
   ]
  },
  {
   "cell_type": "code",
   "execution_count": null,
   "metadata": {
    "colab": {
     "base_uri": "https://localhost:8080/"
    },
    "id": "tdVBttabZ736",
    "outputId": "39deadce-a992-4ef5-d361-807c36a21684",
    "tags": []
   },
   "outputs": [],
   "source": [
    "# Checking the feature names\n",
    "print(f' The names of the features present in the dataset are: ')\n",
    "list(df.columns)"
   ]
  },
  {
   "cell_type": "code",
   "execution_count": null,
   "metadata": {
    "colab": {
     "base_uri": "https://localhost:8080/"
    },
    "id": "wNgd4Uc7ahR6",
    "outputId": "3c7641d2-c449-40af-b84b-a32744c3b032",
    "tags": []
   },
   "outputs": [],
   "source": [
    "df.info()"
   ]
  },
  {
   "cell_type": "code",
   "execution_count": null,
   "metadata": {
    "colab": {
     "base_uri": "https://localhost:8080/"
    },
    "id": "N8DxAE-DGCBK",
    "outputId": "34249b13-2fef-45c5-f25d-b13b47710a40",
    "tags": []
   },
   "outputs": [],
   "source": [
    "df.drop(col , axis=1 ).drop('price' , axis=1).select_dtypes('number').columns.tolist()"
   ]
  },
  {
   "cell_type": "code",
   "execution_count": null,
   "metadata": {
    "colab": {
     "base_uri": "https://localhost:8080/"
    },
    "id": "teVj64_JGCBK",
    "outputId": "af9bd7f1-84ea-4fef-8ab7-8c2129f6ce44",
    "tags": []
   },
   "outputs": [],
   "source": [
    "df.drop(col , axis=1 ).drop('price' , axis=1).select_dtypes('object').columns.tolist()"
   ]
  },
  {
   "cell_type": "code",
   "execution_count": 102,
   "metadata": {
    "colab": {
     "base_uri": "https://localhost:8080/",
     "height": 119
    },
    "id": "_OgGfWjbajAV",
    "outputId": "fa22450c-fc62-4374-e577-6cef32483350",
    "tags": []
   },
   "outputs": [
    {
     "data": {
      "text/html": [
       "<style>#sk-container-id-1 {color: black;}#sk-container-id-1 pre{padding: 0;}#sk-container-id-1 div.sk-toggleable {background-color: white;}#sk-container-id-1 label.sk-toggleable__label {cursor: pointer;display: block;width: 100%;margin-bottom: 0;padding: 0.3em;box-sizing: border-box;text-align: center;}#sk-container-id-1 label.sk-toggleable__label-arrow:before {content: \"▸\";float: left;margin-right: 0.25em;color: #696969;}#sk-container-id-1 label.sk-toggleable__label-arrow:hover:before {color: black;}#sk-container-id-1 div.sk-estimator:hover label.sk-toggleable__label-arrow:before {color: black;}#sk-container-id-1 div.sk-toggleable__content {max-height: 0;max-width: 0;overflow: hidden;text-align: left;background-color: #f0f8ff;}#sk-container-id-1 div.sk-toggleable__content pre {margin: 0.2em;color: black;border-radius: 0.25em;background-color: #f0f8ff;}#sk-container-id-1 input.sk-toggleable__control:checked~div.sk-toggleable__content {max-height: 200px;max-width: 100%;overflow: auto;}#sk-container-id-1 input.sk-toggleable__control:checked~label.sk-toggleable__label-arrow:before {content: \"▾\";}#sk-container-id-1 div.sk-estimator input.sk-toggleable__control:checked~label.sk-toggleable__label {background-color: #d4ebff;}#sk-container-id-1 div.sk-label input.sk-toggleable__control:checked~label.sk-toggleable__label {background-color: #d4ebff;}#sk-container-id-1 input.sk-hidden--visually {border: 0;clip: rect(1px 1px 1px 1px);clip: rect(1px, 1px, 1px, 1px);height: 1px;margin: -1px;overflow: hidden;padding: 0;position: absolute;width: 1px;}#sk-container-id-1 div.sk-estimator {font-family: monospace;background-color: #f0f8ff;border: 1px dotted black;border-radius: 0.25em;box-sizing: border-box;margin-bottom: 0.5em;}#sk-container-id-1 div.sk-estimator:hover {background-color: #d4ebff;}#sk-container-id-1 div.sk-parallel-item::after {content: \"\";width: 100%;border-bottom: 1px solid gray;flex-grow: 1;}#sk-container-id-1 div.sk-label:hover label.sk-toggleable__label {background-color: #d4ebff;}#sk-container-id-1 div.sk-serial::before {content: \"\";position: absolute;border-left: 1px solid gray;box-sizing: border-box;top: 0;bottom: 0;left: 50%;z-index: 0;}#sk-container-id-1 div.sk-serial {display: flex;flex-direction: column;align-items: center;background-color: white;padding-right: 0.2em;padding-left: 0.2em;position: relative;}#sk-container-id-1 div.sk-item {position: relative;z-index: 1;}#sk-container-id-1 div.sk-parallel {display: flex;align-items: stretch;justify-content: center;background-color: white;position: relative;}#sk-container-id-1 div.sk-item::before, #sk-container-id-1 div.sk-parallel-item::before {content: \"\";position: absolute;border-left: 1px solid gray;box-sizing: border-box;top: 0;bottom: 0;left: 50%;z-index: -1;}#sk-container-id-1 div.sk-parallel-item {display: flex;flex-direction: column;z-index: 1;position: relative;background-color: white;}#sk-container-id-1 div.sk-parallel-item:first-child::after {align-self: flex-end;width: 50%;}#sk-container-id-1 div.sk-parallel-item:last-child::after {align-self: flex-start;width: 50%;}#sk-container-id-1 div.sk-parallel-item:only-child::after {width: 0;}#sk-container-id-1 div.sk-dashed-wrapped {border: 1px dashed gray;margin: 0 0.4em 0.5em 0.4em;box-sizing: border-box;padding-bottom: 0.4em;background-color: white;}#sk-container-id-1 div.sk-label label {font-family: monospace;font-weight: bold;display: inline-block;line-height: 1.2em;}#sk-container-id-1 div.sk-label-container {text-align: center;}#sk-container-id-1 div.sk-container {/* jupyter's `normalize.less` sets `[hidden] { display: none; }` but bootstrap.min.css set `[hidden] { display: none !important; }` so we also need the `!important` here to be able to override the default hidden behavior on the sphinx rendered scikit-learn.org. See: https://github.com/scikit-learn/scikit-learn/issues/21755 */display: inline-block !important;position: relative;}#sk-container-id-1 div.sk-text-repr-fallback {display: none;}</style><div id=\"sk-container-id-1\" class=\"sk-top-container\"><div class=\"sk-text-repr-fallback\"><pre>ColumnTransformer(transformers=[(&#x27;num&#x27;,\n",
       "                                 Pipeline(steps=[(&#x27;Scaler&#x27;, RobustScaler())]),\n",
       "                                 [&#x27;minimum_nights&#x27;, &#x27;number_of_reviews&#x27;,\n",
       "                                  &#x27;calculated_host_listings_count&#x27;,\n",
       "                                  &#x27;availability_365&#x27;, &#x27;Construction_year&#x27;,\n",
       "                                  &#x27;service_fee&#x27;, &#x27;review_rate_number&#x27;]),\n",
       "                                (&#x27;cat&#x27;,\n",
       "                                 Pipeline(steps=[(&#x27;Encoder&#x27;,\n",
       "                                                  BinaryEncoder(handle_unknown=&#x27;ignore&#x27;))]),\n",
       "                                 [&#x27;neighbourhood_group&#x27;, &#x27;room_type&#x27;,\n",
       "                                  &#x27;cancellation_policy&#x27;,\n",
       "                                  &#x27;host_identity_verified&#x27;,\n",
       "                                  &#x27;instant_bookable&#x27;])])</pre><b>In a Jupyter environment, please rerun this cell to show the HTML representation or trust the notebook. <br />On GitHub, the HTML representation is unable to render, please try loading this page with nbviewer.org.</b></div><div class=\"sk-container\" hidden><div class=\"sk-item sk-dashed-wrapped\"><div class=\"sk-label-container\"><div class=\"sk-label sk-toggleable\"><input class=\"sk-toggleable__control sk-hidden--visually\" id=\"sk-estimator-id-1\" type=\"checkbox\" ><label for=\"sk-estimator-id-1\" class=\"sk-toggleable__label sk-toggleable__label-arrow\">ColumnTransformer</label><div class=\"sk-toggleable__content\"><pre>ColumnTransformer(transformers=[(&#x27;num&#x27;,\n",
       "                                 Pipeline(steps=[(&#x27;Scaler&#x27;, RobustScaler())]),\n",
       "                                 [&#x27;minimum_nights&#x27;, &#x27;number_of_reviews&#x27;,\n",
       "                                  &#x27;calculated_host_listings_count&#x27;,\n",
       "                                  &#x27;availability_365&#x27;, &#x27;Construction_year&#x27;,\n",
       "                                  &#x27;service_fee&#x27;, &#x27;review_rate_number&#x27;]),\n",
       "                                (&#x27;cat&#x27;,\n",
       "                                 Pipeline(steps=[(&#x27;Encoder&#x27;,\n",
       "                                                  BinaryEncoder(handle_unknown=&#x27;ignore&#x27;))]),\n",
       "                                 [&#x27;neighbourhood_group&#x27;, &#x27;room_type&#x27;,\n",
       "                                  &#x27;cancellation_policy&#x27;,\n",
       "                                  &#x27;host_identity_verified&#x27;,\n",
       "                                  &#x27;instant_bookable&#x27;])])</pre></div></div></div><div class=\"sk-parallel\"><div class=\"sk-parallel-item\"><div class=\"sk-item\"><div class=\"sk-label-container\"><div class=\"sk-label sk-toggleable\"><input class=\"sk-toggleable__control sk-hidden--visually\" id=\"sk-estimator-id-2\" type=\"checkbox\" ><label for=\"sk-estimator-id-2\" class=\"sk-toggleable__label sk-toggleable__label-arrow\">num</label><div class=\"sk-toggleable__content\"><pre>[&#x27;minimum_nights&#x27;, &#x27;number_of_reviews&#x27;, &#x27;calculated_host_listings_count&#x27;, &#x27;availability_365&#x27;, &#x27;Construction_year&#x27;, &#x27;service_fee&#x27;, &#x27;review_rate_number&#x27;]</pre></div></div></div><div class=\"sk-serial\"><div class=\"sk-item\"><div class=\"sk-serial\"><div class=\"sk-item\"><div class=\"sk-estimator sk-toggleable\"><input class=\"sk-toggleable__control sk-hidden--visually\" id=\"sk-estimator-id-3\" type=\"checkbox\" ><label for=\"sk-estimator-id-3\" class=\"sk-toggleable__label sk-toggleable__label-arrow\">RobustScaler</label><div class=\"sk-toggleable__content\"><pre>RobustScaler()</pre></div></div></div></div></div></div></div></div><div class=\"sk-parallel-item\"><div class=\"sk-item\"><div class=\"sk-label-container\"><div class=\"sk-label sk-toggleable\"><input class=\"sk-toggleable__control sk-hidden--visually\" id=\"sk-estimator-id-4\" type=\"checkbox\" ><label for=\"sk-estimator-id-4\" class=\"sk-toggleable__label sk-toggleable__label-arrow\">cat</label><div class=\"sk-toggleable__content\"><pre>[&#x27;neighbourhood_group&#x27;, &#x27;room_type&#x27;, &#x27;cancellation_policy&#x27;, &#x27;host_identity_verified&#x27;, &#x27;instant_bookable&#x27;]</pre></div></div></div><div class=\"sk-serial\"><div class=\"sk-item\"><div class=\"sk-serial\"><div class=\"sk-item\"><div class=\"sk-estimator sk-toggleable\"><input class=\"sk-toggleable__control sk-hidden--visually\" id=\"sk-estimator-id-5\" type=\"checkbox\" ><label for=\"sk-estimator-id-5\" class=\"sk-toggleable__label sk-toggleable__label-arrow\">BinaryEncoder</label><div class=\"sk-toggleable__content\"><pre>BinaryEncoder(handle_unknown=&#x27;ignore&#x27;)</pre></div></div></div></div></div></div></div></div></div></div></div></div>"
      ],
      "text/plain": [
       "ColumnTransformer(transformers=[('num',\n",
       "                                 Pipeline(steps=[('Scaler', RobustScaler())]),\n",
       "                                 ['minimum_nights', 'number_of_reviews',\n",
       "                                  'calculated_host_listings_count',\n",
       "                                  'availability_365', 'Construction_year',\n",
       "                                  'service_fee', 'review_rate_number']),\n",
       "                                ('cat',\n",
       "                                 Pipeline(steps=[('Encoder',\n",
       "                                                  BinaryEncoder(handle_unknown='ignore'))]),\n",
       "                                 ['neighbourhood_group', 'room_type',\n",
       "                                  'cancellation_policy',\n",
       "                                  'host_identity_verified',\n",
       "                                  'instant_bookable'])])"
      ]
     },
     "execution_count": 102,
     "metadata": {},
     "output_type": "execute_result"
    }
   ],
   "source": [
    "col = ['host_name','neighbourhood','lat','NAME','long']\n",
    "new_df = df.copy()\n",
    "new_df.drop(col , axis=1 , inplace=True)\n",
    "\n",
    "X = new_df.drop('price' , axis=1)\n",
    "y = new_df.price\n",
    "\n",
    "x_train , x_test , y_train , y_test = train_test_split(X , y , test_size=0.2 , random_state=42)\n",
    "\n",
    "num = ['minimum_nights','number_of_reviews','calculated_host_listings_count','availability_365','Construction_year','service_fee','review_rate_number']\n",
    "cat = ['neighbourhood_group','room_type','cancellation_policy','host_identity_verified','instant_bookable']\n",
    "\n",
    "cat_pipeline = Pipeline ( steps = [(\"Encoder\" , BinaryEncoder(handle_unknown='ignore') )] )\n",
    "num_pipeline = Pipeline ( steps = [(\"Scaler\" , RobustScaler())] )\n",
    "\n",
    "\n",
    "Column_Transformer = ColumnTransformer(transformers = [('num' , num_pipeline , num) , ('cat' , cat_pipeline , cat)]).set_output(transform='pandas')\n",
    "\n",
    "\n",
    "import warnings\n",
    "warnings.filterwarnings(\"ignore\", category=FutureWarning)\n",
    "\n",
    "x_train_trans = Column_Transformer.fit_transform(x_train)\n",
    "x_test_trans = Column_Transformer.transform(x_test)\n",
    "\n",
    "Column_Transformer"
   ]
  },
  {
   "cell_type": "markdown",
   "metadata": {
    "id": "Xo7UY9Z8eGZl"
   },
   "source": [
    "# ⏬ Modeling"
   ]
  },
  {
   "cell_type": "markdown",
   "metadata": {
    "id": "lNxDac_eeJ7M"
   },
   "source": [
    "## ⬛ Linear Regression"
   ]
  },
  {
   "cell_type": "code",
   "execution_count": 103,
   "metadata": {
    "colab": {
     "base_uri": "https://localhost:8080/"
    },
    "id": "bvuEPzLmdZRJ",
    "outputId": "c303e50b-7863-45ec-964f-359558a70f54",
    "tags": []
   },
   "outputs": [
    {
     "name": "stdout",
     "output_type": "stream",
     "text": [
      "r2_score  0.9863331207677608\n",
      "train_Score  0.9892478497083599\n",
      "test_Score  0.9863331207677608\n",
      "mean_squared_error :  1502.192160041586\n"
     ]
    }
   ],
   "source": [
    "LR = LinearRegression(fit_intercept=False)\n",
    "LR.fit(x_train_trans , y_train)\n",
    "y_pred = LR.predict(x_test_trans)\n",
    "\n",
    "print(\"r2_score \",r2_score(y_test , y_pred))\n",
    "print(\"train_Score \",LR.score(x_train_trans , y_train))\n",
    "print(\"test_Score \",LR.score(x_test_trans , y_test))\n",
    "print(\"mean_squared_error : \",mean_squared_error(y_test , y_pred))\n"
   ]
  },
  {
   "cell_type": "code",
   "execution_count": null,
   "metadata": {
    "colab": {
     "base_uri": "https://localhost:8080/"
    },
    "id": "2mVnAtygdZuU",
    "outputId": "a37ab404-7509-46f4-d7a5-d09e162a7195",
    "tags": []
   },
   "outputs": [],
   "source": [
    "# Perform cross-validation\n",
    "cross_scores = cross_val_score(LR, x_train_trans, y_train)\n",
    "\n",
    "# Print the cross-validation scores\n",
    "print('Scores: ', cross_scores)\n",
    "print('Mean: ', np.mean(cross_scores))\n",
    "print('Std: ', np.std(cross_scores))"
   ]
  },
  {
   "cell_type": "markdown",
   "metadata": {
    "id": "3ity6WzU4Dyn"
   },
   "source": [
    "## ⬛ Decision Tree"
   ]
  },
  {
   "cell_type": "code",
   "execution_count": null,
   "metadata": {
    "colab": {
     "base_uri": "https://localhost:8080/"
    },
    "id": "pkOkhD-D-mjf",
    "outputId": "d93c19d7-1155-4b0d-e65a-f20822ee8555",
    "tags": []
   },
   "outputs": [],
   "source": [
    "# Define the DT regressor\n",
    "DT = DecisionTreeRegressor()\n",
    "\n",
    "# Define the hyperparameters grid to search through\n",
    "param_grid_DT = {\n",
    "    'max_depth': [20, 30, 10],  # max_depth parameter\n",
    "    'random_state': [42, 43, 44],  # random_state parameter\n",
    "    'ccp_alpha': [1.5, 2, 2.5],  # ccp_alpha parameter\n",
    "    'splitter': [ \"best\", \"random\"] #splitter parameter\n",
    "}\n",
    "\n",
    "# Initialize GridSearch\n",
    "grid_search_DT = GridSearchCV(estimator=DT, param_grid=param_grid_DT , cv=3, n_jobs=-1, verbose=2)\n",
    "\n",
    "# Fit the data to perform the search for best parameters\n",
    "grid_search_DT.fit(x_train_trans, y_train)\n",
    "\n",
    "# Output the best parameters found\n",
    "print(\"Best Parameters:\", grid_search_DT.best_params_)\n",
    "print(\"Best Score:\", grid_search_DT.best_score_)"
   ]
  },
  {
   "cell_type": "code",
   "execution_count": 104,
   "metadata": {
    "colab": {
     "base_uri": "https://localhost:8080/"
    },
    "id": "LBH5fTzM33g1",
    "outputId": "461e03b8-4291-4d82-a6e6-5790f36ffe1f",
    "tags": []
   },
   "outputs": [
    {
     "name": "stdout",
     "output_type": "stream",
     "text": [
      "Scores:  [0.99693396 0.99454779 0.99694977 0.99547114 0.99664828]\n",
      "Mean:  0.9961101867180184\n",
      "Std:  0.0009510531257764309\n"
     ]
    }
   ],
   "source": [
    "# Perform cross-validation\n",
    "DT = DecisionTreeRegressor(max_depth=10 ,random_state=44 ,ccp_alpha=1.5,splitter=\"random\")\n",
    "cross_scores_T = cross_val_score(DT, x_train_trans, y_train)\n",
    "\n",
    "# Print the cross-validation scores\n",
    "print('Scores: ', cross_scores_T)\n",
    "print('Mean: ', np.mean(cross_scores_T))\n",
    "print('Std: ', np.std(cross_scores_T))"
   ]
  },
  {
   "cell_type": "code",
   "execution_count": 105,
   "metadata": {
    "colab": {
     "base_uri": "https://localhost:8080/"
    },
    "id": "qU4fSAAR38cp",
    "outputId": "a5eb820a-48c7-49f1-dd11-4d3ad527b922",
    "tags": []
   },
   "outputs": [
    {
     "name": "stdout",
     "output_type": "stream",
     "text": [
      " r2_score:  0.9949705784684761\n",
      " train_Score:  0.9970313778538333\n",
      " test_Score:  0.9949705784684761\n",
      " mean_squared_error:  552.8078111919947\n"
     ]
    }
   ],
   "source": [
    "DT = DecisionTreeRegressor(max_depth=10 ,random_state=44 ,ccp_alpha=1.5,splitter=\"random\")\n",
    "DT.fit(x_train_trans , y_train)\n",
    "y_pred_DT = DT.predict(x_test_trans)\n",
    "\n",
    "print(\" r2_score: \", r2_score(y_test , y_pred_DT))\n",
    "print(\" train_Score: \", DT.score(x_train_trans , y_train))\n",
    "print(\" test_Score: \", DT.score(x_test_trans , y_test))\n",
    "print(\" mean_squared_error: \", mean_squared_error(y_test , y_pred_DT))\n"
   ]
  },
  {
   "cell_type": "markdown",
   "metadata": {
    "id": "mNGageODezPJ"
   },
   "source": [
    "## ⬛ SVR"
   ]
  },
  {
   "cell_type": "code",
   "execution_count": null,
   "metadata": {
    "colab": {
     "base_uri": "https://localhost:8080/"
    },
    "id": "ZEfi83FqewA9",
    "outputId": "21dd4828-f8f5-47c7-fbfc-9ef549b5eaaf",
    "tags": []
   },
   "outputs": [],
   "source": [
    "# Define the SVR regressor\n",
    "svr = LinearSVR()\n",
    "\n",
    "# Define the hyperparameters grid to search through\n",
    "param_grid_svr = {\n",
    "    'C': [0.1, 1.0, 10.0],  # Regularization parameter\n",
    "    'epsilon': [0.1, 0.2, 0.3],  # Epsilon parameter\n",
    "    'tol': [1e-4, 1e-3, 1e-2]  # Tolerance for stopping criteria\n",
    "}\n",
    "\n",
    "# Initialize GridSearch\n",
    "grid_search_svr = GridSearchCV(estimator=svr, param_grid=param_grid_svr , cv=3, n_jobs=-1, verbose=2)\n",
    "\n",
    "# Fit the data to perform the search for best parameters\n",
    "grid_search_svr.fit(x_train_trans, y_train)\n",
    "\n",
    "# Output the best parameters found\n",
    "print(\"Best Parameters:\", grid_search_svr.best_params_)\n",
    "print(\"Best Score:\", grid_search_svr.best_score_)"
   ]
  },
  {
   "cell_type": "code",
   "execution_count": 106,
   "metadata": {
    "colab": {
     "base_uri": "https://localhost:8080/"
    },
    "id": "i2QQ_4yPfFL8",
    "outputId": "5bbc335d-254f-459e-8892-6fe32663c511",
    "tags": []
   },
   "outputs": [
    {
     "name": "stdout",
     "output_type": "stream",
     "text": [
      "r2_score  0.9862058881158992\n",
      "train_Score  0.9891674537779689\n",
      "test_Score  0.9862058881158992\n",
      "mean_squared_error :  1516.1769102453454\n"
     ]
    },
    {
     "name": "stderr",
     "output_type": "stream",
     "text": [
      "C:\\Users\\Administrator\\anaconda3\\Lib\\site-packages\\sklearn\\svm\\_base.py:1250: ConvergenceWarning: Liblinear failed to converge, increase the number of iterations.\n",
      "  warnings.warn(\n"
     ]
    }
   ],
   "source": [
    "Lsvr = LinearSVR(C=10 , epsilon=0.3 , tol=0.001)\n",
    "Lsvr.fit(x_train_trans , y_train)\n",
    "y_pred_Lsvr = Lsvr.predict(x_test_trans)\n",
    "\n",
    "print(\"r2_score \",r2_score(y_test , y_pred_Lsvr))\n",
    "print(\"train_Score \",Lsvr.score(x_train_trans , y_train))\n",
    "print(\"test_Score \",Lsvr.score(x_test_trans , y_test))\n",
    "print(\"mean_squared_error : \",mean_squared_error(y_test , y_pred_Lsvr))"
   ]
  },
  {
   "cell_type": "code",
   "execution_count": null,
   "metadata": {
    "colab": {
     "base_uri": "https://localhost:8080/"
    },
    "id": "BUb22vVPgTRN",
    "outputId": "5beec38b-6f74-420c-f8cf-0dbe3bab6952",
    "tags": []
   },
   "outputs": [],
   "source": [
    "# Perform cross-validation\n",
    "Lsvr = LinearSVR(C=10 , epsilon=0.3 , tol=0.01)\n",
    "cross_scores_Lsvr = cross_val_score(Lsvr, x_train_trans, y_train)\n",
    "\n",
    "# Print the cross-validation scores\n",
    "print('Scores: ', cross_scores_Lsvr)\n",
    "print('Mean: ', np.mean(cross_scores_Lsvr))\n",
    "print('Std: ', np.std(cross_scores_Lsvr))"
   ]
  },
  {
   "cell_type": "markdown",
   "metadata": {
    "id": "TSwkHoT61zHb"
   },
   "source": [
    "##⬛XGBRegressor\n"
   ]
  },
  {
   "cell_type": "code",
   "execution_count": null,
   "metadata": {
    "colab": {
     "base_uri": "https://localhost:8080/"
    },
    "id": "9YyOXIg61itN",
    "outputId": "a3b5311d-1330-451e-fab7-ca9e53404f97",
    "tags": []
   },
   "outputs": [],
   "source": [
    "# Define the XGBoost regressor\n",
    "XGBR = XGBRegressor()\n",
    "\n",
    "# Define the hyperparameters grid to search through\n",
    "param_grid = {\n",
    "    'max_depth': list(range(1,11)),\n",
    "    'n_estimators': list(range(1,81,10))}\n",
    "\n",
    "# Initialize GridSearch with cross-validation\n",
    "grid_search = GridSearchCV(estimator=XGBR, param_grid=param_grid, cv=3, n_jobs=-1, verbose=2)\n",
    "\n",
    "# Fit the data to perform the search for best parameters\n",
    "grid_search.fit(x_train_trans, y_train)\n",
    "\n",
    "# Output the best parameters found\n",
    "print(\"Best Parameters:\", grid_search.best_params_)\n",
    "print(\"Best Score:\", grid_search.best_score_)"
   ]
  },
  {
   "cell_type": "code",
   "execution_count": 107,
   "metadata": {
    "colab": {
     "base_uri": "https://localhost:8080/"
    },
    "id": "ByKpfNER1j0C",
    "outputId": "33b87cf7-5a55-4538-8b2a-cee1e5f100e1",
    "tags": []
   },
   "outputs": [
    {
     "name": "stdout",
     "output_type": "stream",
     "text": [
      " r2_score  0.9827784025840339\n",
      " train_Score  0.9843539312513158\n",
      " test_Score  0.9827784025840339\n",
      " mean_squared_error :  1892.9082625264439\n"
     ]
    }
   ],
   "source": [
    "XGBR = XGBRegressor(max_depth=6 , n_estimators=6 ,random_state=42)\n",
    "XGBR.fit(x_train_trans , y_train)\n",
    "y_pred_XGBR = XGBR.predict(x_test_trans)\n",
    "print(\" r2_score \",r2_score(y_test , y_pred_XGBR))\n",
    "print(\" train_Score \",XGBR.score(x_train_trans , y_train))\n",
    "print(\" test_Score \",XGBR.score(x_test_trans , y_test))\n",
    "print(\" mean_squared_error : \",mean_squared_error(y_test , y_pred_XGBR))"
   ]
  },
  {
   "cell_type": "code",
   "execution_count": null,
   "metadata": {
    "colab": {
     "base_uri": "https://localhost:8080/"
    },
    "id": "c7X88ycf1kHE",
    "outputId": "4b9bab4a-e7f6-4321-9d8e-9b5ee2defd79",
    "tags": []
   },
   "outputs": [],
   "source": [
    "# Perform cross-validation\n",
    "XGBR_cross = XGBRegressor(max_depth=7 , n_estimators=80 ,random_state=42)\n",
    "cv_scores_XGBR = cross_val_score(XGBR, x_train_trans, y_train)\n",
    "\n",
    "# Print the cross-validation scores\n",
    "print('Scores: ', cv_scores_XGBR)\n",
    "print('Mean: ', np.mean(cv_scores_XGBR))\n",
    "print('Std: ', np.std(cv_scores_XGBR))"
   ]
  },
  {
   "cell_type": "markdown",
   "metadata": {
    "id": "oLddsm8a1Z1L"
   },
   "source": [
    "## ⬛ Random Forest Regressor"
   ]
  },
  {
   "cell_type": "code",
   "execution_count": null,
   "metadata": {
    "colab": {
     "base_uri": "https://localhost:8080/"
    },
    "id": "YSJW85CB1QYT",
    "outputId": "5c7b5a19-f46e-485c-d13a-57d81c0067fe",
    "tags": []
   },
   "outputs": [],
   "source": [
    "DFR = RandomForestRegressor(n_estimators=100)\n",
    "DFR.fit(x_train_trans , y_train)\n",
    "y_pred_DFR = DFR.predict(x_test_trans)\n",
    "\n",
    "print(\" r2_score \",r2_score(y_test , y_pred_DFR))\n",
    "print(\" train_Score \",DFR.score(x_train_trans , y_train))\n",
    "print(\" test_Score \",DFR.score(x_test_trans , y_test))\n",
    "print(\" mean_squared_error : \",mean_squared_error(y_test , y_pred_DFR))"
   ]
  },
  {
   "cell_type": "markdown",
   "metadata": {
    "id": "6v97mtFnklbS"
   },
   "source": [
    "##⬛AdaBoostRegressor"
   ]
  },
  {
   "cell_type": "code",
   "execution_count": null,
   "metadata": {
    "colab": {
     "base_uri": "https://localhost:8080/"
    },
    "id": "yRDDgP4LkSxP",
    "outputId": "e7831b61-8e24-414a-dc71-a24d318d4149",
    "tags": []
   },
   "outputs": [],
   "source": [
    "ADB = AdaBoostRegressor(n_estimators =100 )\n",
    "ADB.fit(x_train_trans , y_train)\n",
    "y_pred_ADB = ADB.predict(x_test_trans)\n",
    "\n",
    "print(\" r2_score \",r2_score(y_test , y_pred_ADB))\n",
    "print(\" train_Score \",ADB.score(x_train_trans , y_train))\n",
    "print(\" test_Score \",ADB.score(x_test_trans , y_test))\n",
    "print(\" mean_squared_error : \",mean_squared_error(y_test , y_pred_ADB))\n"
   ]
  },
  {
   "cell_type": "markdown",
   "metadata": {
    "id": "r4fC78UDksld"
   },
   "source": [
    "##⬛GradientBoostingRegressor\n"
   ]
  },
  {
   "cell_type": "code",
   "execution_count": null,
   "metadata": {
    "colab": {
     "base_uri": "https://localhost:8080/"
    },
    "id": "Xp9YMSxYkvCb",
    "outputId": "9ef3605d-80ca-465e-83ea-7750e0a1dba9",
    "tags": []
   },
   "outputs": [],
   "source": [
    "# Perform cross-validation\n",
    "GDB = GradientBoostingRegressor(max_depth=20 , n_estimators=100)\n",
    "cv_scores_GDB = cross_val_score(GDB, x_train_trans, y_train)\n",
    "\n",
    "# Print the cross-validation scores\n",
    "print('Scores: ', cv_scores_GDB)\n",
    "print(' Mean: ', np.mean(cv_scores_GDB))\n",
    "print(' Std: ', np.std(cv_scores_GDB))"
   ]
  },
  {
   "cell_type": "code",
   "execution_count": null,
   "metadata": {
    "colab": {
     "base_uri": "https://localhost:8080/"
    },
    "id": "03fcR74okx8n",
    "outputId": "5209ad07-5b40-45f2-d9a5-2d2d165123cf",
    "tags": []
   },
   "outputs": [],
   "source": [
    "GDB = GradientBoostingRegressor(max_depth=20 , n_estimators=100)\n",
    "GDB.fit(x_train_trans , y_train)\n",
    "y_pred_GDB = GDB.predict(x_test_trans)\n",
    "\n",
    "print(\" r2_score \",r2_score(y_test , y_pred_GDB))\n",
    "print(\" train_Score \",GDB.score(x_train_trans , y_train))\n",
    "print(\" test_Score \",GDB.score(x_test_trans , y_test))\n",
    "print(\" mean_squared_error : \",mean_squared_error(y_test , y_pred_GDB))\n"
   ]
  },
  {
   "cell_type": "markdown",
   "metadata": {
    "id": "Ru_gVDH6lL6z"
   },
   "source": [
    "## ⬛ KNeighborsRegressor"
   ]
  },
  {
   "cell_type": "code",
   "execution_count": null,
   "metadata": {
    "colab": {
     "base_uri": "https://localhost:8080/"
    },
    "id": "ibV36AVMlM6t",
    "outputId": "5ccfb836-139e-4274-f207-1cbbedd78d2c",
    "tags": []
   },
   "outputs": [],
   "source": [
    "for i in range(1,15):\n",
    "    KNN = KNeighborsRegressor(n_neighbors=i)\n",
    "    KNN.fit(x_train_trans , y_train)\n",
    "    y_pred_KNN = KNN.predict(x_test_trans)\n",
    "    print(\"n_neighbors : \",i )\n",
    "    print(\"mean_squared_error : \",mean_squared_error(y_test , y_pred_KNN))\n",
    "    print(\" r2_score \",r2_score(y_test , y_pred_KNN))\n",
    "    print(\" train_Score \",KNN.score(x_train_trans , y_train))\n",
    "    print(\" test_Score \",KNN.score(x_test_trans , y_test))\n",
    "    print(\"-\"*50)"
   ]
  },
  {
   "cell_type": "code",
   "execution_count": null,
   "metadata": {
    "colab": {
     "base_uri": "https://localhost:8080/"
    },
    "id": "hcln6ntJlPLb",
    "outputId": "f576c7ea-02ff-4caa-92f0-4256fa8296ad",
    "tags": []
   },
   "outputs": [],
   "source": [
    "\n",
    "KNN = KNeighborsRegressor(n_neighbors=10)\n",
    "KNN.fit(x_train_trans , y_train)\n",
    "y_pred_KNN = KNN.predict(x_test_trans)\n",
    "\n",
    "print(\" r2_score \",r2_score(y_test , y_pred_KNN))\n",
    "print(\" train_Score \",KNN.score(x_train_trans , y_train))\n",
    "print(\" test_Score \",KNN.score(x_test_trans , y_test))\n",
    "print(\" mean_squared_error : \",mean_squared_error(y_test , y_pred_KNN))\n"
   ]
  },
  {
   "cell_type": "markdown",
   "metadata": {
    "id": "_lNGuqzYGCBQ",
    "tags": []
   },
   "source": [
    "# ⏬ Test Model"
   ]
  },
  {
   "cell_type": "code",
   "execution_count": 108,
   "metadata": {
    "colab": {
     "base_uri": "https://localhost:8080/"
    },
    "id": "ETRF_C6ZGCBQ",
    "outputId": "28212dfe-4c2f-4cf7-9cfc-f693428e0238",
    "tags": []
   },
   "outputs": [
    {
     "name": "stdout",
     "output_type": "stream",
     "text": [
      "Actual Price :         price\n",
      "46998  621.0\n",
      "\n",
      "Predicted Price :  620.2\n"
     ]
    }
   ],
   "source": [
    "Test = x_test.sample(1)\n",
    "Test_idx = Test.index\n",
    "\n",
    "Test_New_Preprocess = Column_Transformer.transform(Test)\n",
    "Test_New_Predict = XGBR.predict(Test_New_Preprocess)\n",
    "\n",
    "Actual_Price = df.loc[Test_idx][['price']]\n",
    "Predicted_Price = Test_New_Predict[0]\n",
    "\n",
    "print(\"Actual Price : \", Actual_Price)\n",
    "print(\"\\nPredicted Price : \", round(Predicted_Price,1))"
   ]
  },
  {
   "cell_type": "markdown",
   "metadata": {
    "id": "BFkey0X6MWH7"
   },
   "source": [
    "# ⏬ Save Model"
   ]
  },
  {
   "cell_type": "code",
   "execution_count": 109,
   "metadata": {
    "id": "RyaK66XoFubv",
    "tags": []
   },
   "outputs": [],
   "source": [
    "# Define the model\n",
    "model=XGBR"
   ]
  },
  {
   "cell_type": "code",
   "execution_count": 110,
   "metadata": {
    "colab": {
     "base_uri": "https://localhost:8080/"
    },
    "id": "z43_HDXVF__t",
    "outputId": "ec321c66-cc60-4279-8cd4-2e402032bb1c",
    "tags": []
   },
   "outputs": [
    {
     "data": {
      "text/plain": [
       "['column_Transformer_New.h5']"
      ]
     },
     "execution_count": 110,
     "metadata": {},
     "output_type": "execute_result"
    }
   ],
   "source": [
    "import joblib\n",
    "# Save the model and preprocessor\n",
    "joblib.dump(model, 'XGBRegressor_new.h5')\n",
    "joblib.dump(Column_Transformer, 'column_Transformer_New.h5')"
   ]
  },
  {
   "cell_type": "code",
   "execution_count": null,
   "metadata": {
    "colab": {
     "base_uri": "https://localhost:8080/"
    },
    "id": "H3PIMy5x4WhS",
    "outputId": "7bab39f0-6c8f-4513-a94b-bd9c1093beb6",
    "tags": []
   },
   "outputs": [],
   "source": [
    "!pip install streamlit"
   ]
  },
  {
   "cell_type": "code",
   "execution_count": 113,
   "metadata": {
    "colab": {
     "base_uri": "https://localhost:8080/"
    },
    "id": "LvDUlC4dIHnq",
    "outputId": "d504ed41-3cb0-45c6-dc3c-76044be3862c",
    "tags": []
   },
   "outputs": [
    {
     "name": "stdout",
     "output_type": "stream",
     "text": [
      "Overwriting app.py\n"
     ]
    }
   ],
   "source": [
    "%%writefile app.py\n",
    "import streamlit as st\n",
    "import joblib\n",
    "import pandas as pd\n",
    "from sklearn.model_selection import train_test_split\n",
    "from sklearn.preprocessing import StandardScaler , OrdinalEncoder , PolynomialFeatures ,RobustScaler\n",
    "from sklearn.model_selection import GridSearchCV\n",
    "from sklearn.linear_model import LinearRegression , Ridge , Lasso , ElasticNet\n",
    "from sklearn.svm import SVR\n",
    "from sklearn.metrics import mean_squared_error , r2_score\n",
    "from sklearn.neighbors import KNeighborsRegressor\n",
    "from sklearn.ensemble import RandomForestRegressor\n",
    "from sklearn.ensemble import AdaBoostRegressor\n",
    "from sklearn.ensemble import GradientBoostingRegressor\n",
    "from sklearn.tree import DecisionTreeRegressor\n",
    "from xgboost import XGBRegressor\n",
    "from sklearn.pipeline import Pipeline\n",
    "from category_encoders import BinaryEncoder\n",
    "from sklearn.compose import ColumnTransformer\n",
    "from sklearn.model_selection import cross_val_score\n",
    "from sklearn.svm import LinearSVR\n",
    "\n",
    "st.set_page_config(layout=\"wide\" , page_title=\"Airbnb APP\")\n",
    "\n",
    "st.title('Airbnb Price Prediction')\n",
    "\n",
    "column_1 , column_2 , column_3 = st.columns([70,5,70])\n",
    "with column_1:\n",
    "    neighbourhood_group=st.selectbox('neighbourhood_group? ',[\"Manhattan\",\"Brooklyn\",\"Queens\",\"Bronx\",\"Staten Island\"])\n",
    "    room_type=st.selectbox('room_type? ',[\"Entire home/apt\",\"Private room\",\"Shared room\",\"Hotel room\"])\n",
    "    cancellation_policy=st.selectbox('cancellation_policy? ',[\"moderate\",\"strict\",\"flexible\"])\n",
    "    Construction_year=st.selectbox('Construction_year? ',[\"2022\",\"2021\",\"2020\",\"2019\",\"2018\",\"2017\",\"2016\",\"2015\",'2014','2013','2012',\"2011\",\"2010\",\"2009\" ,\"2008\",\"2007\",\"2006\",\"2005\",\"2004\" ,\"2003\"])\n",
    "    host_identity_verified=st.radio('host_identity_verified? ',[\"unconfirmed\",\"verified\"])\n",
    "    instant_bookable=st.radio(\"instant_bookable\",['False','True'])\n",
    "\n",
    "with column_3:\n",
    "    minimum_nights =st.slider('minimum_nights? ',1,30,15)\n",
    "    number_of_reviews =st.slider('number_of_reviews? ',0,1026,513)\n",
    "    calculated_host_listings_count =st.slider('calculated_host_listings_count? ',1,332,166)\n",
    "    availability_365 =st.slider('availability_365? ',0,365,0)\n",
    "    service_fee =st.slider('service_fee? ',0,240,120)\n",
    "    review_rate_number =st.slider('review_rate_number? ',1,5,1)\n",
    "\n",
    "New_Date = pd.DataFrame({'neighbourhood_group':[neighbourhood_group],\n",
    "                         'room_type':[room_type],\n",
    "                         'cancellation_policy':[cancellation_policy],\n",
    "                         'host_identity_verified':[host_identity_verified],\n",
    "                         'Construction_year':[Construction_year],\n",
    "                         'instant_bookable':[instant_bookable],\n",
    "                         'minimum_nights':[minimum_nights],\n",
    "                         'number_of_reviews':[number_of_reviews],\n",
    "                         'calculated_host_listings_count':[calculated_host_listings_count],\n",
    "                         'availability_365':[availability_365],\n",
    "                         'service_fee':[service_fee],\n",
    "                         'review_rate_number':[review_rate_number]},index=[0])\n",
    "\n",
    "\n",
    "transformer=joblib.load('Column_Transformer_new.h5')\n",
    "model=joblib.load('XGBRegressor_new.h5')\n",
    "\n",
    "Preprocess = transformer.transform(New_Date)\n",
    "Predict = model.predict(Preprocess)\n",
    "\n",
    "st.dataframe(New_Date,width=1200,height=10,use_container_width=True)\n",
    "\n",
    "if st.button('Predict'):\n",
    "    st.subheader(round(Predict[0],2))"
   ]
  },
  {
   "cell_type": "code",
   "execution_count": 112,
   "metadata": {
    "id": "SNIttXicGCBS",
    "tags": []
   },
   "outputs": [
    {
     "name": "stdout",
     "output_type": "stream",
     "text": [
      "^C\n"
     ]
    }
   ],
   "source": [
    "!streamlit run app.py"
   ]
  },
  {
   "cell_type": "code",
   "execution_count": null,
   "metadata": {
    "colab": {
     "base_uri": "https://localhost:8080/",
     "height": 1000
    },
    "id": "iYeI7Z0oGCBS",
    "outputId": "1ba10ead-c2f8-4a11-b4fb-4a3fcbcc2792"
   },
   "outputs": [],
   "source": [
    "!pip install pipreqs"
   ]
  },
  {
   "cell_type": "code",
   "execution_count": 115,
   "metadata": {
    "colab": {
     "base_uri": "https://localhost:8080/"
    },
    "id": "DEIkykj9GCBS",
    "outputId": "4af63199-d787-41b1-a3cb-a8ac12903379",
    "tags": []
   },
   "outputs": [
    {
     "name": "stderr",
     "output_type": "stream",
     "text": [
      "WARNING: Import named \"xgboost\" not found locally. Trying to resolve it at the PyPI server.\n",
      "WARNING: Import named \"xgboost\" was resolved to \"xgboost:2.0.3\" package (https://pypi.org/project/xgboost/).\n",
      "Please, verify manually the final list of requirements.txt to avoid possible dependency confusions.\n",
      "INFO: Successfully saved requirements file in D:\\Data Science\\01-ZeroGrad\\00-My Projects ZeroGrad\\ML 13- Airbnb\\Mido\\requirements.txt\n"
     ]
    }
   ],
   "source": [
    "!pipreqs"
   ]
  },
  {
   "cell_type": "code",
   "execution_count": null,
   "metadata": {
    "id": "2tNL-GdXGCBS"
   },
   "outputs": [],
   "source": []
  }
 ],
 "metadata": {
  "colab": {
   "collapsed_sections": [
    "I5LLrIlBXPP-",
    "f1f50wgWXTYH",
    "3AD4TnmSY1Y2",
    "ASTuh2Q_gwVm",
    "A0E7Loa5JBxM",
    "RHH5u4sMOc0a",
    "ilup4wS9Z0__",
    "Xo7UY9Z8eGZl",
    "_lNGuqzYGCBQ"
   ],
   "provenance": []
  },
  "kernelspec": {
   "display_name": "Python 3 (ipykernel)",
   "language": "python",
   "name": "python3"
  },
  "language_info": {
   "codemirror_mode": {
    "name": "ipython",
    "version": 3
   },
   "file_extension": ".py",
   "mimetype": "text/x-python",
   "name": "python",
   "nbconvert_exporter": "python",
   "pygments_lexer": "ipython3",
   "version": "3.11.5"
  }
 },
 "nbformat": 4,
 "nbformat_minor": 4
}
